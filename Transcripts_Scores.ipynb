{
 "cells": [
  {
   "cell_type": "code",
   "execution_count": 33,
   "metadata": {},
   "outputs": [],
   "source": [
    "import pandas as pd\n",
    "import numpy as np\n",
    "import matplotlib.pyplot as plt"
   ]
  },
  {
   "cell_type": "code",
   "execution_count": 17,
   "metadata": {},
   "outputs": [],
   "source": [
    "df = pd.read_csv('../DataPaper/data/transcript_tags1_clean.csv')\n",
    "df_tour = pd.read_csv('../DataPaper/data/scores_surveys.csv')"
   ]
  },
  {
   "cell_type": "code",
   "execution_count": 24,
   "metadata": {},
   "outputs": [
    {
     "data": {
      "text/html": [
       "<div>\n",
       "<style scoped>\n",
       "    .dataframe tbody tr th:only-of-type {\n",
       "        vertical-align: middle;\n",
       "    }\n",
       "\n",
       "    .dataframe tbody tr th {\n",
       "        vertical-align: top;\n",
       "    }\n",
       "\n",
       "    .dataframe thead th {\n",
       "        text-align: right;\n",
       "    }\n",
       "</style>\n",
       "<table border=\"1\" class=\"dataframe\">\n",
       "  <thead>\n",
       "    <tr style=\"text-align: right;\">\n",
       "      <th></th>\n",
       "      <th>Unnamed: 0</th>\n",
       "      <th>text</th>\n",
       "      <th>label</th>\n",
       "      <th>username</th>\n",
       "      <th>round</th>\n",
       "    </tr>\n",
       "  </thead>\n",
       "  <tbody>\n",
       "    <tr>\n",
       "      <th>0</th>\n",
       "      <td>0</td>\n",
       "      <td>This is a response to why we think office to o...</td>\n",
       "      <td>introduction</td>\n",
       "      <td>gabbishilcusky</td>\n",
       "      <td>round5</td>\n",
       "    </tr>\n",
       "    <tr>\n",
       "      <th>1</th>\n",
       "      <td>1</td>\n",
       "      <td>So I think that opening Government substantiat...</td>\n",
       "      <td>rebuttal1</td>\n",
       "      <td>gabbishilcusky</td>\n",
       "      <td>round5</td>\n",
       "    </tr>\n",
       "    <tr>\n",
       "      <th>2</th>\n",
       "      <td>2</td>\n",
       "      <td>Okay. So in response to closing Governement.I ...</td>\n",
       "      <td>rebuttal2</td>\n",
       "      <td>gabbishilcusky</td>\n",
       "      <td>round5</td>\n",
       "    </tr>\n",
       "    <tr>\n",
       "      <th>3</th>\n",
       "      <td>3</td>\n",
       "      <td>Dennis's gave us an example of how in the hobb...</td>\n",
       "      <td>constructive1</td>\n",
       "      <td>gabbishilcusky</td>\n",
       "      <td>round5</td>\n",
       "    </tr>\n",
       "    <tr>\n",
       "      <th>4</th>\n",
       "      <td>4</td>\n",
       "      <td>ecause recognize the people who decide what ca...</td>\n",
       "      <td>constructive2</td>\n",
       "      <td>gabbishilcusky</td>\n",
       "      <td>round5</td>\n",
       "    </tr>\n",
       "  </tbody>\n",
       "</table>\n",
       "</div>"
      ],
      "text/plain": [
       "   Unnamed: 0                                               text  \\\n",
       "0           0  This is a response to why we think office to o...   \n",
       "1           1  So I think that opening Government substantiat...   \n",
       "2           2  Okay. So in response to closing Governement.I ...   \n",
       "3           3  Dennis's gave us an example of how in the hobb...   \n",
       "4           4  ecause recognize the people who decide what ca...   \n",
       "\n",
       "           label        username   round  \n",
       "0   introduction  gabbishilcusky  round5  \n",
       "1      rebuttal1  gabbishilcusky  round5  \n",
       "2      rebuttal2  gabbishilcusky  round5  \n",
       "3  constructive1  gabbishilcusky  round5  \n",
       "4  constructive2  gabbishilcusky  round5  "
      ]
     },
     "execution_count": 24,
     "metadata": {},
     "output_type": "execute_result"
    }
   ],
   "source": [
    "df.head()"
   ]
  },
  {
   "cell_type": "code",
   "execution_count": 20,
   "metadata": {},
   "outputs": [],
   "source": [
    "df_tour = df_tour[['round','username','score']].dropna()"
   ]
  },
  {
   "cell_type": "code",
   "execution_count": 21,
   "metadata": {},
   "outputs": [
    {
     "data": {
      "text/html": [
       "<div>\n",
       "<style scoped>\n",
       "    .dataframe tbody tr th:only-of-type {\n",
       "        vertical-align: middle;\n",
       "    }\n",
       "\n",
       "    .dataframe tbody tr th {\n",
       "        vertical-align: top;\n",
       "    }\n",
       "\n",
       "    .dataframe thead th {\n",
       "        text-align: right;\n",
       "    }\n",
       "</style>\n",
       "<table border=\"1\" class=\"dataframe\">\n",
       "  <thead>\n",
       "    <tr style=\"text-align: right;\">\n",
       "      <th></th>\n",
       "      <th>round</th>\n",
       "      <th>username</th>\n",
       "      <th>score</th>\n",
       "    </tr>\n",
       "  </thead>\n",
       "  <tbody>\n",
       "    <tr>\n",
       "      <th>0</th>\n",
       "      <td>round2</td>\n",
       "      <td>AdiJK</td>\n",
       "      <td>78.0</td>\n",
       "    </tr>\n",
       "    <tr>\n",
       "      <th>1</th>\n",
       "      <td>round2</td>\n",
       "      <td>jmorgan</td>\n",
       "      <td>76.0</td>\n",
       "    </tr>\n",
       "    <tr>\n",
       "      <th>2</th>\n",
       "      <td>round2</td>\n",
       "      <td>jbotkin1</td>\n",
       "      <td>81.0</td>\n",
       "    </tr>\n",
       "    <tr>\n",
       "      <th>3</th>\n",
       "      <td>round2</td>\n",
       "      <td>Bfalkofs</td>\n",
       "      <td>77.0</td>\n",
       "    </tr>\n",
       "    <tr>\n",
       "      <th>4</th>\n",
       "      <td>round2</td>\n",
       "      <td>aabruzz1</td>\n",
       "      <td>79.0</td>\n",
       "    </tr>\n",
       "  </tbody>\n",
       "</table>\n",
       "</div>"
      ],
      "text/plain": [
       "    round  username  score\n",
       "0  round2     AdiJK   78.0\n",
       "1  round2   jmorgan   76.0\n",
       "2  round2  jbotkin1   81.0\n",
       "3  round2  Bfalkofs   77.0\n",
       "4  round2  aabruzz1   79.0"
      ]
     },
     "execution_count": 21,
     "metadata": {},
     "output_type": "execute_result"
    }
   ],
   "source": [
    "df_tour['round'] = df_tour['round'].apply(lambda x: 'round'+str(int(x)))\n",
    "df_tour.head()"
   ]
  },
  {
   "cell_type": "code",
   "execution_count": 25,
   "metadata": {},
   "outputs": [],
   "source": [
    "df_trans = df.merge(df_tour, on = ['username','round'], how='left').drop('Unnamed: 0',axis=1)"
   ]
  },
  {
   "cell_type": "code",
   "execution_count": 26,
   "metadata": {},
   "outputs": [
    {
     "data": {
      "text/html": [
       "<div>\n",
       "<style scoped>\n",
       "    .dataframe tbody tr th:only-of-type {\n",
       "        vertical-align: middle;\n",
       "    }\n",
       "\n",
       "    .dataframe tbody tr th {\n",
       "        vertical-align: top;\n",
       "    }\n",
       "\n",
       "    .dataframe thead th {\n",
       "        text-align: right;\n",
       "    }\n",
       "</style>\n",
       "<table border=\"1\" class=\"dataframe\">\n",
       "  <thead>\n",
       "    <tr style=\"text-align: right;\">\n",
       "      <th></th>\n",
       "      <th>text</th>\n",
       "      <th>label</th>\n",
       "      <th>username</th>\n",
       "      <th>round</th>\n",
       "      <th>score</th>\n",
       "    </tr>\n",
       "  </thead>\n",
       "  <tbody>\n",
       "    <tr>\n",
       "      <th>0</th>\n",
       "      <td>This is a response to why we think office to o...</td>\n",
       "      <td>introduction</td>\n",
       "      <td>gabbishilcusky</td>\n",
       "      <td>round5</td>\n",
       "      <td>78.0</td>\n",
       "    </tr>\n",
       "    <tr>\n",
       "      <th>1</th>\n",
       "      <td>So I think that opening Government substantiat...</td>\n",
       "      <td>rebuttal1</td>\n",
       "      <td>gabbishilcusky</td>\n",
       "      <td>round5</td>\n",
       "      <td>78.0</td>\n",
       "    </tr>\n",
       "    <tr>\n",
       "      <th>2</th>\n",
       "      <td>Okay. So in response to closing Governement.I ...</td>\n",
       "      <td>rebuttal2</td>\n",
       "      <td>gabbishilcusky</td>\n",
       "      <td>round5</td>\n",
       "      <td>78.0</td>\n",
       "    </tr>\n",
       "    <tr>\n",
       "      <th>3</th>\n",
       "      <td>Dennis's gave us an example of how in the hobb...</td>\n",
       "      <td>constructive1</td>\n",
       "      <td>gabbishilcusky</td>\n",
       "      <td>round5</td>\n",
       "      <td>78.0</td>\n",
       "    </tr>\n",
       "    <tr>\n",
       "      <th>4</th>\n",
       "      <td>ecause recognize the people who decide what ca...</td>\n",
       "      <td>constructive2</td>\n",
       "      <td>gabbishilcusky</td>\n",
       "      <td>round5</td>\n",
       "      <td>78.0</td>\n",
       "    </tr>\n",
       "  </tbody>\n",
       "</table>\n",
       "</div>"
      ],
      "text/plain": [
       "                                                text          label  \\\n",
       "0  This is a response to why we think office to o...   introduction   \n",
       "1  So I think that opening Government substantiat...      rebuttal1   \n",
       "2  Okay. So in response to closing Governement.I ...      rebuttal2   \n",
       "3  Dennis's gave us an example of how in the hobb...  constructive1   \n",
       "4  ecause recognize the people who decide what ca...  constructive2   \n",
       "\n",
       "         username   round  score  \n",
       "0  gabbishilcusky  round5   78.0  \n",
       "1  gabbishilcusky  round5   78.0  \n",
       "2  gabbishilcusky  round5   78.0  \n",
       "3  gabbishilcusky  round5   78.0  \n",
       "4  gabbishilcusky  round5   78.0  "
      ]
     },
     "execution_count": 26,
     "metadata": {},
     "output_type": "execute_result"
    }
   ],
   "source": [
    "df_trans.head()"
   ]
  },
  {
   "cell_type": "code",
   "execution_count": 34,
   "metadata": {},
   "outputs": [
    {
     "data": {
      "image/png": "[encoded data removed]",
      "text/plain": [
       "<Figure size 432x288 with 1 Axes>"
      ]
     },
     "metadata": {
      "needs_background": "light"
     },
     "output_type": "display_data"
    }
   ],
   "source": [
    "df_trans['score'].hist()\n",
    "plt.show()"
   ]
  },
  {
   "cell_type": "code",
   "execution_count": 35,
   "metadata": {},
   "outputs": [],
   "source": [
    "score_class = {70:1,71:2,72:3,73:4,74:5,75:6,76:7,77:8,78:9,\n",
    "               79:10,80:11,81:12,82:13,83:14,84:15}"
   ]
  },
  {
   "cell_type": "code",
   "execution_count": 37,
   "metadata": {},
   "outputs": [],
   "source": [
    "df_trans = df_trans.dropna()"
   ]
  },
  {
   "cell_type": "code",
   "execution_count": 38,
   "metadata": {},
   "outputs": [],
   "source": [
    "df_trans['score_class'] = df_trans['score'].apply(lambda x: score_class[x])"
   ]
  },
  {
   "cell_type": "code",
   "execution_count": 42,
   "metadata": {},
   "outputs": [],
   "source": [
    "df_trans = pd.read_csv('../DataPaper/data/ann_transcript_score_class.csv')"
   ]
  },
  {
   "cell_type": "code",
   "execution_count": 56,
   "metadata": {},
   "outputs": [],
   "source": [
    "df_cons = df_trans[df_trans['label'].str.contains('constructive')].reset_index()\n",
    "df_cons = df_cons.drop(['Unnamed: 0','index'],axis = 1)"
   ]
  },
  {
   "cell_type": "code",
   "execution_count": 64,
   "metadata": {},
   "outputs": [
    {
     "data": {
      "text/html": [
       "<div>\n",
       "<style scoped>\n",
       "    .dataframe tbody tr th:only-of-type {\n",
       "        vertical-align: middle;\n",
       "    }\n",
       "\n",
       "    .dataframe tbody tr th {\n",
       "        vertical-align: top;\n",
       "    }\n",
       "\n",
       "    .dataframe thead th {\n",
       "        text-align: right;\n",
       "    }\n",
       "</style>\n",
       "<table border=\"1\" class=\"dataframe\">\n",
       "  <thead>\n",
       "    <tr style=\"text-align: right;\">\n",
       "      <th></th>\n",
       "      <th>text</th>\n",
       "      <th>label</th>\n",
       "      <th>username</th>\n",
       "      <th>round</th>\n",
       "      <th>score</th>\n",
       "    </tr>\n",
       "    <tr>\n",
       "      <th>score_class</th>\n",
       "      <th></th>\n",
       "      <th></th>\n",
       "      <th></th>\n",
       "      <th></th>\n",
       "      <th></th>\n",
       "    </tr>\n",
       "  </thead>\n",
       "  <tbody>\n",
       "    <tr>\n",
       "      <th>1</th>\n",
       "      <td>2</td>\n",
       "      <td>2</td>\n",
       "      <td>2</td>\n",
       "      <td>2</td>\n",
       "      <td>2</td>\n",
       "    </tr>\n",
       "    <tr>\n",
       "      <th>2</th>\n",
       "      <td>19</td>\n",
       "      <td>19</td>\n",
       "      <td>19</td>\n",
       "      <td>19</td>\n",
       "      <td>19</td>\n",
       "    </tr>\n",
       "    <tr>\n",
       "      <th>3</th>\n",
       "      <td>15</td>\n",
       "      <td>15</td>\n",
       "      <td>15</td>\n",
       "      <td>15</td>\n",
       "      <td>15</td>\n",
       "    </tr>\n",
       "    <tr>\n",
       "      <th>4</th>\n",
       "      <td>59</td>\n",
       "      <td>59</td>\n",
       "      <td>59</td>\n",
       "      <td>59</td>\n",
       "      <td>59</td>\n",
       "    </tr>\n",
       "    <tr>\n",
       "      <th>5</th>\n",
       "      <td>62</td>\n",
       "      <td>62</td>\n",
       "      <td>62</td>\n",
       "      <td>62</td>\n",
       "      <td>62</td>\n",
       "    </tr>\n",
       "    <tr>\n",
       "      <th>6</th>\n",
       "      <td>71</td>\n",
       "      <td>71</td>\n",
       "      <td>71</td>\n",
       "      <td>71</td>\n",
       "      <td>71</td>\n",
       "    </tr>\n",
       "    <tr>\n",
       "      <th>7</th>\n",
       "      <td>151</td>\n",
       "      <td>151</td>\n",
       "      <td>151</td>\n",
       "      <td>151</td>\n",
       "      <td>151</td>\n",
       "    </tr>\n",
       "    <tr>\n",
       "      <th>8</th>\n",
       "      <td>135</td>\n",
       "      <td>135</td>\n",
       "      <td>135</td>\n",
       "      <td>135</td>\n",
       "      <td>135</td>\n",
       "    </tr>\n",
       "    <tr>\n",
       "      <th>9</th>\n",
       "      <td>66</td>\n",
       "      <td>66</td>\n",
       "      <td>66</td>\n",
       "      <td>66</td>\n",
       "      <td>66</td>\n",
       "    </tr>\n",
       "    <tr>\n",
       "      <th>10</th>\n",
       "      <td>82</td>\n",
       "      <td>82</td>\n",
       "      <td>82</td>\n",
       "      <td>82</td>\n",
       "      <td>82</td>\n",
       "    </tr>\n",
       "    <tr>\n",
       "      <th>11</th>\n",
       "      <td>94</td>\n",
       "      <td>94</td>\n",
       "      <td>94</td>\n",
       "      <td>94</td>\n",
       "      <td>94</td>\n",
       "    </tr>\n",
       "    <tr>\n",
       "      <th>12</th>\n",
       "      <td>22</td>\n",
       "      <td>22</td>\n",
       "      <td>22</td>\n",
       "      <td>22</td>\n",
       "      <td>22</td>\n",
       "    </tr>\n",
       "    <tr>\n",
       "      <th>13</th>\n",
       "      <td>12</td>\n",
       "      <td>12</td>\n",
       "      <td>12</td>\n",
       "      <td>12</td>\n",
       "      <td>12</td>\n",
       "    </tr>\n",
       "    <tr>\n",
       "      <th>14</th>\n",
       "      <td>2</td>\n",
       "      <td>2</td>\n",
       "      <td>2</td>\n",
       "      <td>2</td>\n",
       "      <td>2</td>\n",
       "    </tr>\n",
       "    <tr>\n",
       "      <th>15</th>\n",
       "      <td>9</td>\n",
       "      <td>9</td>\n",
       "      <td>9</td>\n",
       "      <td>9</td>\n",
       "      <td>9</td>\n",
       "    </tr>\n",
       "  </tbody>\n",
       "</table>\n",
       "</div>"
      ],
      "text/plain": [
       "             text  label  username  round  score\n",
       "score_class                                     \n",
       "1               2      2         2      2      2\n",
       "2              19     19        19     19     19\n",
       "3              15     15        15     15     15\n",
       "4              59     59        59     59     59\n",
       "5              62     62        62     62     62\n",
       "6              71     71        71     71     71\n",
       "7             151    151       151    151    151\n",
       "8             135    135       135    135    135\n",
       "9              66     66        66     66     66\n",
       "10             82     82        82     82     82\n",
       "11             94     94        94     94     94\n",
       "12             22     22        22     22     22\n",
       "13             12     12        12     12     12\n",
       "14              2      2         2      2      2\n",
       "15              9      9         9      9      9"
      ]
     },
     "execution_count": 64,
     "metadata": {},
     "output_type": "execute_result"
    }
   ],
   "source": [
    "df_cons.groupby(['score_class']).count()"
   ]
  },
  {
   "cell_type": "code",
   "execution_count": 58,
   "metadata": {},
   "outputs": [],
   "source": [
    "dftest_list =[]\n",
    "dftrain_list = []\n",
    "for score in df_cons['score_class'].unique():\n",
    "    test = df_cons[df_cons['score_class']==score].sample(frac = 1/5)\n",
    "    train = df_cons[df_cons['score_class']==score].drop(test.index)\n",
    "    dftest_list.append(test)\n",
    "    dftrain_list.append(train)"
   ]
  },
  {
   "cell_type": "code",
   "execution_count": 59,
   "metadata": {},
   "outputs": [],
   "source": [
    "dftest_cons = pd.concat(dftest_list)\n",
    "dftrain_cons = pd.concat(dftrain_list)"
   ]
  },
  {
   "cell_type": "code",
   "execution_count": 62,
   "metadata": {},
   "outputs": [
    {
     "data": {
      "text/plain": [
       "array([ 9,  7, 10, 11,  4,  8, 13,  6, 15,  5,  3, 12,  2])"
      ]
     },
     "execution_count": 62,
     "metadata": {},
     "output_type": "execute_result"
    }
   ],
   "source": [
    "dftest_cons['score_class'].unique()"
   ]
  },
  {
   "cell_type": "code",
   "execution_count": 65,
   "metadata": {},
   "outputs": [
    {
     "data": {
      "text/plain": [
       "array([ 9,  7, 10, 11,  4,  8, 13,  6, 15,  5,  3, 12,  2,  1, 14])"
      ]
     },
     "execution_count": 65,
     "metadata": {},
     "output_type": "execute_result"
    }
   ],
   "source": [
    "dftrain_cons['score_class'].unique()"
   ]
  },
  {
   "cell_type": "code",
   "execution_count": 66,
   "metadata": {},
   "outputs": [
    {
     "data": {
      "text/plain": [
       "(158, 6)"
      ]
     },
     "execution_count": 66,
     "metadata": {},
     "output_type": "execute_result"
    }
   ],
   "source": [
    "dftest_cons.shape"
   ]
  },
  {
   "cell_type": "code",
   "execution_count": 79,
   "metadata": {},
   "outputs": [],
   "source": [
    "dftest_cons =dftest_cons.reset_index()"
   ]
  },
  {
   "cell_type": "code",
   "execution_count": 68,
   "metadata": {},
   "outputs": [
    {
     "data": {
      "text/plain": [
       "(643, 6)"
      ]
     },
     "execution_count": 68,
     "metadata": {},
     "output_type": "execute_result"
    }
   ],
   "source": [
    "dftrain_cons.shape"
   ]
  },
  {
   "cell_type": "code",
   "execution_count": 80,
   "metadata": {},
   "outputs": [
    {
     "name": "stdout",
     "output_type": "stream",
     "text": [
      "70\n",
      "86\n"
     ]
    }
   ],
   "source": [
    "for i in dftest_cons.index:\n",
    "    text = dftest_cons['text'].iloc[i].split(' ')\n",
    "    if len(text)>512:\n",
    "        print(i)"
   ]
  },
  {
   "cell_type": "code",
   "execution_count": 82,
   "metadata": {},
   "outputs": [],
   "source": [
    "dftest_cons = dftest_cons.drop([70,86])"
   ]
  },
  {
   "cell_type": "code",
   "execution_count": 104,
   "metadata": {},
   "outputs": [],
   "source": [
    "dftest_cons = pd.read_csv('data/ann_transcript_score_class_test.csv')\n",
    "dftrain_cons = pd.read_csv('data/ann_transcript_score_class_train.csv')"
   ]
  },
  {
   "cell_type": "code",
   "execution_count": 86,
   "metadata": {},
   "outputs": [],
   "source": [
    "dftest_cons['score_class']=dftest_cons['score_class']-1\n",
    "dftrain_cons['score_class']=dftrain_cons['score_class']-1"
   ]
  },
  {
   "cell_type": "code",
   "execution_count": 87,
   "metadata": {},
   "outputs": [],
   "source": [
    "dftest_cons.to_csv('data/ann_transcript_score_class_test.csv')\n",
    "dftrain_cons.to_csv('data/ann_transcript_score_class_train.csv')"
   ]
  },
  {
   "cell_type": "code",
   "execution_count": 105,
   "metadata": {},
   "outputs": [
    {
     "data": {
      "text/plain": [
       "array([ 8,  6,  9, 10,  3,  7, 12,  5, 14,  4,  2, 11,  1,  0, 13])"
      ]
     },
     "execution_count": 105,
     "metadata": {},
     "output_type": "execute_result"
    }
   ],
   "source": [
    "dftrain_cons['score_class'].unique()"
   ]
  },
  {
   "cell_type": "code",
   "execution_count": 98,
   "metadata": {},
   "outputs": [],
   "source": [
    "def squash(x):\n",
    "    if x>=0 and x<=2:\n",
    "        return 0\n",
    "    elif x==3 or x==4:\n",
    "        return 1\n",
    "    elif x==5 or x == 6:\n",
    "        return 2\n",
    "    elif x == 7 or x==8:\n",
    "        return 3\n",
    "    elif x == 9 or x ==10:\n",
    "        return 4\n",
    "    elif x ==  11 or x ==12:\n",
    "        return 5\n",
    "    else:\n",
    "        return 6"
   ]
  },
  {
   "cell_type": "code",
   "execution_count": 106,
   "metadata": {},
   "outputs": [],
   "source": [
    "dftrain_red = dftrain_cons\n",
    "dftest_red = dftest_cons"
   ]
  },
  {
   "cell_type": "code",
   "execution_count": 107,
   "metadata": {},
   "outputs": [],
   "source": [
    "dftrain_red['score_class'] = dftrain_red['score_class'].apply(lambda x: squash(x))\n",
    "dftest_red['score_class'] = dftest_red['score_class'].apply(lambda x: squash(x))"
   ]
  },
  {
   "cell_type": "code",
   "execution_count": 111,
   "metadata": {},
   "outputs": [
    {
     "data": {
      "text/plain": [
       "array([3, 2, 4, 1, 5, 6, 0])"
      ]
     },
     "execution_count": 111,
     "metadata": {},
     "output_type": "execute_result"
    }
   ],
   "source": [
    "dftest_red['score_class'].unique()"
   ]
  },
  {
   "cell_type": "code",
   "execution_count": 112,
   "metadata": {},
   "outputs": [],
   "source": [
    "dftest_red.to_csv('data/ann_transcript_score_class_test.csv')\n",
    "dftrain_red.to_csv('data/ann_transcript_score_class_train.csv')"
   ]
  },
  {
   "cell_type": "code",
   "execution_count": 119,
   "metadata": {
    "scrolled": false
   },
   "outputs": [
    {
     "name": "stdout",
     "output_type": "stream",
     "text": [
      "['it', 'manifests', 'like', 'them', 'rejecting', 'the', 'media', 'as', 'fake', 'news', 'and', 'it', 'manifests', 'has', 'done', 'like', 'rejecting', 'the', 'political', 'discussion.', 'The', 'research', 'that', 'scientists', 'have', 'about', 'global', 'warming,', 'about', 'how', 'it', 'is', 'a', 'certainty,', 'right?', 'It', 'is', 'projecting', 'the', 'objective', 'truths', 'of', 'our', 'debate,', 'that', 'still', 'happened', 'in', 'the', 'study', 'school.', 'Because', 'of', 'this', 'projection', 'of', 'truths,', 'we', 'have', 'people', 'that', 'are', 'not', 'necessarily', 'engaging', 'in', 'the', 'world.', 'The', 'role', 'of', 'narrative,', 'as', 'I', 'said', 'before,', 'therefore;', 'is', 'to', 'push', 'for', 'questioning.', 'To', 'push', 'for', 'one', 'accuracy', 'of', 'political', 'belief.', 'Like', 'actually', 'what', 'is', 'the', 'accuracy', 'of', 'the', 'policy', 'or', 'the', 'belief', 'that', \"you're\", 'holding,', 'right?', 'Like,', 'is', 'it', 'actually', 'substantiated', 'in', 'the', 'real', 'world?', 'And', 'likewise,', 'to', 'question', 'the', 'leaders', 'that', 'come', 'to', 'us,', 'right?', 'Like', 'when,', 'Donald', 'Trump,', 'comes', 'to', 'office...', 'I', 'would', 'have', 'liked', 'it', 'to', 'be', 'all', 'right,', 'to', 'question', 'the', 'efficacy', 'of', 'his', 'policies.', 'To', 'question,', 'the', 'efficacy', 'of', 'the', 'wall,', 'or', 'to', 'question', 'the', 'efficacy', 'of', 'this', 'spending', 'NATO.', 'Cause', 'if', 'we', 'had', 'his', 'voter', 'base,', 'have', 'this', 'narrative', 'in', 'their', 'back', 'of', 'their', 'head', 'rather', 'than', 'the', 'hatred', 'of', 'the', 'establishment,', 'we', \"would've\", 'had', 'a', 'different', 'election.', 'But', 'the', 'same', 'thing', 'in', 'upcoming', 'elections', 'throughout', 'the', 'world,', 'we', 'want', 'people', 'to', 'actually', 'question', 'what', 'the', 'politicians', 'are', 'saying', 'and', 'whether', \"it's\", 'actually', 'valid,', 'right?', 'So,', 'what', 'do', 'we', 'get', 'without', 'it?', 'Three', 'key', 'aspects', 'here:', 'first', 'of', 'all,', 'we', 'get', 'better', 'voting', 'if', 'we', 'still', 'have', 'the', 'narrative', 'in', 'place.', 'Without', 'it;', 'we', 'get', 'worse', 'voting,', 'because', 'we', 'have', 'populism', 'rising', 'throughout', 'the', 'world.', 'For', 'example,', 'in', 'Europe', 'we', 'have', 'many,', 'many', 'parties', 'that', 'are', 'super', 'right', 'wing,', 'like', 'the', 'alternative', 'for', 'Germany,', 'your', 'Marine', 'Le', 'pen.', 'Essentially,', 'they', 'are', 'advocating', 'for', 'a', 'new', 'kind', 'of', 'world']\n",
      "['issues', 'can', 'be', 'reviewed', 'over', 'and', 'over', 'again', 'because', 'there', 'can', 'be', 'a', 'divide', 'in', 'the', 'government,', 'and', 'that', 'can', 'lead', 'to', 'a', 'lot', 'of', 'difficulty', 'in', 'passing', 'bills', 'that', 'actually', 'attacks', 'these.', 'Whereas', 'if', \"it's\", 'all', 'subjective,', 'people', 'can', 'just', 'quarrel.', 'And', 'also', 'over', 'issues', 'that', \"aren't\", 'even', 'political,', 'just', 'because', \"they're\", 'divided', 'in', 'general', 'it', 'can', 'lead', 'to', 'harder', 'passage', 'of', 'that.']\n",
      "['create', 'the', 'norm', 'around', 'child', 'care', 'being', 'the', 'primary', 'burden', 'of', 'women,', 'by', 'fixing', 'that', 'harm', 'by', 'providing', 'child', 'care', 'and', 'give', 'women', 'an', 'option', 'not', 'to', 'just', 'go', 'and', 'leave', 'their', 'job', 'and', 'focus', 'on', 'the', 'child', 'at', 'home,', 'it', 'helps', 'that', 'harm.', 'And', 'therefore,', 'they', 'are', 'somewhat', 'making', 'up', 'for', 'the', 'harm', 'in', 'the', 'past.', 'But', 'secondly,', 'we', 'would', 'argue', 'that', 'having', 'child', 'care', 'denied', 'is', 'infringement', 'on', 'a', 'right', 'in', 'and', 'of', 'itself.', 'Why', 'is', 'that', 'the', 'case?', 'If', 'you', 'are', 'a', 'woman', 'and', 'you', 'are', 'denied', 'child', 'care,', 'that', 'means', 'that', 'your', 'autonomy', 'is', 'violated', 'because', 'you', 'have', 'to', 'give', 'up', 'your', 'own', 'choices,', 'your', 'own', 'career,', 'to', 'go', 'back', 'and', 'raise', 'that', 'child', 'at', 'home.', 'If', 'child', 'care', \"wasn't\", 'denied', 'and', 'you', 'have', 'the', 'option', 'to', 'have', 'your', 'child', 'placed', 'in', 'child', 'care', 'and', 'to', 'go', 'back', 'to', 'live', 'your', 'job,', 'your', 'autonomy', \"wouldn't\", 'have', 'been', 'violated.', 'And', 'as', 'a', 'result,', 'you', 'would', 'be', 'perfectly', 'normal.', 'As', 'a', 'result', 'of', 'this', 'rights', 'violation,', 'we', 'believe', 'the', 'state', 'must', 'step', 'in', 'and', 'correct', 'for', 'that', 'rights', 'violation', 'because', \"it's\", 'happening', 'right', 'in', 'front', 'of', 'their', 'very', 'eyes.', 'And', \"I'll\", 'take', 'you.', 'Yes?']\n",
      "[\"what's\", 'actually', 'more', 'important', 'which', 'is', 'the', 'deep', 'reasons', 'why', 'these', 'things', 'happen.']\n",
      "['as', 'public', 'debate', 'and', 'political', 'discourse,', 'we', 'feel', 'it', \"you'd\", 'be', 'at', 'a', 'stage', 'where', 'people', 'could', 'be', 'talking', 'about', 'more', 'of', 'these', 'things', 'more', 'so', 'and', 'more', 'earlier', 'on.']\n",
      "['Why', 'is', 'it', 'incredibly', 'bad?', 'Firstly,', 'you', 'lose', 'the', 'opportunity', 'to', 'genuinely', 'inform', 'the', 'politics', 'and', 'what', 'policies', 'each', 'candidate', 'stands', 'for.', 'Notice', 'that', 'publicized', 'and', 'televised', 'political', 'debates', 'or', 'other', 'unique', 'opportunities', 'to', 'actually', 'inform', 'the', 'public', 'on', 'political', 'issues', 'and', 'get', 'them', 'to', 'be', 'informed', 'voters', 'when', 'they', 'actually', 'do', 'elections.', 'You', 'lose', 'this', 'opportunity', 'at', 'the', 'point', 'in', 'which', 'you', 'focus', 'more', 'on', 'personal', 'accounts', 'and', 'subjectivity,', 'rather', 'than', 'actual', 'facts', 'and', 'what', 'policies', 'each', 'candidate', 'stands', 'for.']\n",
      "['in', 'terms', 'of', 'the', 'fact', 'that', 'in', 'presumably', 'objective', 'politics', 'we', 'believe', 'that', 'minorities', 'and', 'women,', 'that', 'essentially', 'derive', 'a', 'lot', 'of', 'their', 'passion', 'and', 'inspiration', 'from', 'their', 'own', 'personal', 'experiences,', 'as', 'well', 'as', 'a', 'motivator', 'to', 'change', 'status', 'quo', 'experience', 'of', 'that', 'kind', 'of', 'influence', \"that'll\", 'suppress', 'them,', 'and', 'utterly', 'being', 'hard', 'because', 'of', 'the', 'fact', 'that', 'objective', 'has', 'essentially', 'skewed', 'the', 'words', 'individuals', 'that', \"don't\", 'act', 'from', 'an', 'aspiration', 'or', 'inspiration', 'political,', 'right?', 'We', 'believe', 'that', 'minorities', 'and', 'women', 'always', 'want', 'to', 'talk', 'about', 'things', 'that', 'have', 'affected', 'them', 'and', 'always', 'want', 'to', 'talk', 'about', 'how', 'they', 'want', 'to', 'change', 'things', 'for', 'the', 'millions', 'that', 'face', 'this', 'exact', 'same', 'predicament,', 'are', 'being', 'left', 'out', 'in', 'objective,', 'presumably', 'objective,', 'politics,', 'only', 'because', 'every', 'single', 'time', 'they', 'ascribe', 'to', 'any', 'of', 'the', 'personal', 'experiences', 'that', 'have', 'led', 'them', 'to', 'stand', 'for', 'office,', 'that', 'have', 'led', 'them', 'to', 'relate', 'to', 'people', 'who', 'are', 'facing', 'the', 'same', 'experiences,', 'are', 'rejected', 'in', 'status', 'quo', 'politics', 'by', 'virtue', 'of', 'being', 'overly', 'passionate,', 'overly', 'emotional,', 'right?\\n']\n",
      "['on', 'the', 'line,', 'you', \"can't\", 'see', 'both', 'sides.', 'When', 'your', 'access', 'to', 'an', 'abortion', 'puts', 'your', 'autonomy', 'at', 'risk,', \"you're\", 'going', 'to', 'be', 'more', 'angry', 'about', 'it.', 'And', 'so,', 'we', 'think', 'what', 'we', 'do', 'when', 'we', 'put', 'emphasis', 'on', 'objectivity', 'is', 'we', 'raise', 'the', 'voices', 'of', 'the', 'privileged', 'who', 'can', 'afford', 'to', 'be', 'neutral,', 'and', 'we', 'minimize', 'the', 'people', 'whose', 'real', 'experiences', 'are', 'too', 'intense,', 'too', 'painful,', 'to', 'just', 'have', 'this', 'flat', 'affect', 'and', 'not', 'express', 'their', 'own', 'subjective', 'experiences', 'when', 'they', 'talk', 'about', 'these', 'issues.', \"I'll\", 'take', 'that', 'half', 'if', 'you']\n",
      "['a', 'personal', 'understanding', 'of.', 'The', 'people', 'who', 'are', 'excluded', 'from', 'the', 'debate,', 'the', 'actual', 'people', 'suffering', 'from', 'separation', 'at', 'the', 'border', 'have', 'two', 'important', 'characteristics.', 'Firstly,', 'they', 'bring', 'the', 'most', 'important', 'unique', 'perspectives', 'to', 'the', 'debate.', 'We', 'say', 'that', 'they', 'are', 'the', 'people', 'who', 'are', 'able', 'to', 'share', 'stories', 'that', \"aren't\", 'necessarily', 'found', 'by', 'the', 'media', 'that', \"aren't\", 'necessarily', 'found', 'by', 'independent', 'investigators.', 'They', 'are', 'able', 'to', 'share', 'personal', 'experiences', 'that', 'no', 'one', 'else', 'has', 'access', 'to.', 'Secondly,', 'we', 'say', \"they're\", 'the', 'most', 'important,', 'motivated', 'advocates', 'in', 'order', 'to', 'solve', 'this', 'problem.', \"They're\", 'never', 'going', 'to', 'give', 'up', 'to', 'solve', 'a', 'problem', 'that', 'deeply', 'personally', 'affects', 'them', 'and', 'their', 'quality', 'of', 'life.', 'Where', 'someone', 'for', 'whom', 'that', 'problem', 'is', 'merely', 'academic', 'may', 'be', 'willing', 'to', 'just', 'give', 'that', 'up.', 'Thirdly,', 'we', 'say', 'they', 'are', 'the', 'most', 'effective', 'communicators', 'to', 'motivate', 'public', 'change', 'on', 'this', 'issue.', 'Why', 'is', 'that', 'the', 'case?', 'Because', 'we', 'say', 'that', 'they', 'are', 'able', 'to', 'use', 'their', 'emotions,', 'which', 'are', 'a', 'universal', 'language', 'that', 'all', 'human', 'beings', 'share', 'to', 'share', 'the', 'depth', 'of', 'the', 'severity', 'of', 'their', 'experience', 'with', 'others.', 'Even', 'if', 'you', 'come', 'from', 'a', 'wealthy', 'background', 'and', \"you've\", 'never', 'suffered', 'from', 'political', 'oppression,', 'you', 'can', 'still', 'understand', 'what', 'it', 'feels', 'like', 'to', 'be', 'bullied', 'or', 'to', 'be', 'ashamed', 'of', 'some', 'aspects', 'as', 'well,', 'and', 'we', 'think', 'this', 'gives', 'people', 'who', 'come', 'from', 'privileged', 'backgrounds', 'a', 'greater', 'capacity', 'for', 'political', 'action', 'and', 'ability', 'to', 'empathize', 'with', 'people', 'who', 'are', 'truly', 'suffering', 'from', 'political', 'oppression.', '\\nThis', 'makes', 'it', 'easier', 'for', 'people', 'from', 'these', 'backgrounds', 'where', 'they', 'are', 'oppressed,', 'where', 'they', 'do', 'suffer,', 'to', 'get', 'society', 'as', 'a', 'whole', 'to', 'mobilize', 'on', 'their', 'behalf', 'instead', 'of', 'only', 'trying', 'to', 'make', 'change', 'themselves', 'as', 'minorities', 'that', 'are', 'already', 'disempowered.', 'These', 'three', 'characteristics,', 'we', 'think,', 'make', 'it', 'absolutely', 'essential', 'that', 'people', 'who', 'may', 'not', 'necessarily', 'be', 'able', 'to', 'stay', 'calm', 'in', 'a', 'debate', 'be', 'part', 'of', 'that', 'debate.', 'Expectations', 'that', 'exclude', 'them', 'from', 'the', 'debate', 'have', 'to', 'be', 'removed', 'from', 'society.']\n",
      "['to', 'what', 'is', 'the', 'best', 'move', 'monetarily', 'in', 'order', 'to', 'heal', 'those', 'nations.', 'I', 'think', 'when', 'they', 'say', 'that', 'thirdly', 'that', 'they', 'have', 'different', 'contexts', 'in', 'which', \"they're\", 'going', 'to', 'evaluate', 'whether', 'inflation', 'is', 'good,', 'do', 'we', 'want', 'the', 'interest', 'rate', 'higher', 'or', 'low?', 'All', 'these', 'things', 'just', 'recognize', 'in', 'ACIAR', 'what', 'ties', 'them', 'together', 'relatively', 'is', 'that', \"they're\", 'exporting', 'nations', 'that', 'they', 'want', 'by', 'a', 'common', 'interest', 'in', 'trade.', 'Are', 'they', 'more', 'over?', 'You', 'would', 'also', 'say', 'that', 'each', 'of', 'these', 'nations', 'within', 'ACIAR,', 'when', \"they're\", 'governed', 'monetary', 'policy', 'want', 'to', 'account', 'for', 'those', 'different,', \"who's\", 'differences', 'and', 'how', 'they', 'affect', 'the', 'economies', 'because', 'of', 'the', 'tight', 'incentive', 'that', 'they', 'have', 'now.', 'I', 'think', 'when', 'they', 'say', 'that', 'Singapore', 'is', 'a', 'bigger', 'economy', 'of', 'the', 'end', 'of', 'their', 'case,', 'talking', 'about', 'how', \"they're\", 'going', 'to', 'have', 'the', 'most', 'power', 'recognize', \"that's\", 'in', 'the', 'status', 'quo', 'within', 'the', 'framework', 'of', 'ACIAR', 'but', 'also', 'they', 'should', 'have', 'the', 'ability', 'to', 'within', 'ACIAR', 'to', 'descend', 'and', 'generally', 'they', 'need', 'to', 'reach', 'a', 'consensus', 'but', 'then', 'secondarily', 'even', 'if', 'they', 'have', 'more', 'power', 'comparatively', 'they', 'care', 'more', 'in', 'our', 'world', 'because', \"they're\", 'able', 'to', 'bail', 'out', 'those', 'countries.', 'There', 'are', 'three', 'main', 'points', 'of', 'it.', 'The', 'three', 'main', 'points', 'that', 'AMAR', 'brings', 'up', 'that', 'bring', 'us', 'massive', 'impacts', 'in', 'the', 'ground,', 'before', 'I', 'get', 'to', 'that', \"I'll\", 'take', 'closing', 'it.', 'If,', 'you', 'have', 'one.']\n",
      "['1.5%', 'of', 'rape', 'allegations', 'are', 'false,', 'you', 'always', 'are', 'never', 'emphasizing', 'with', 'victims', 'because', 'you', 'can', 'never', 'see', 'yourself', 'as', 'being', 'one', 'of', 'those', 'victims.', 'But', 'we', 'also', 'think', 'that', 'Will', 'tells', 'you', 'that', \"there's\", 'a', 'gender', 'or', 'racialized', 'conception', 'of', 'who', 'has', 'the', 'ownership', 'of', 'certain', 'emotions.', 'That', 'is', 'to', 'say', 'if', 'we', 'always', 'think', 'of', 'women', 'as', 'being', 'able', 'to', 'be', 'the', 'victims,', 'this', 'could', 'actually', 'be', 'a', 'very', 'bad', 'thing.', 'Meaning', 'when', 'white', 'woman', 'accused', 'a', 'black', 'man', 'of', 'rape,', 'they', 'have', 'the', 'monopoly', 'on', 'the', 'sympathy', 'emotion', 'of', 'being', 'able', 'to', 'appeal', 'to', 'that.', 'But', 'when', 'a', 'black', 'man', 'or', 'a', 'black', 'family', 'is', 'a', 'victim', 'of', 'police', 'brutality,', 'they', \"can't\", 'access', 'these', 'emotional', 'appeals', 'in', 'the', 'same', 'way.', 'And', 'when', 'you', 'increase', 'the', 'magnitude', 'of', 'that', 'subjectivity', 'in', 'discourse,', 'people', 'will', 'always', 'listen', 'to', 'the', 'white', 'female', 'victim', 'or', 'like', 'the', 'white', 'police', 'officer', 'who', 'they', 'are', 'a', 'lot', 'easier', 'to', 'empathize', 'with', 'when', 'things', 'like', 'objectivity,', 'how', 'many', 'people', 'are', 'actually', 'the', 'subject', 'of', 'police', 'brutality', 'or', 'like', 'the', 'fastest', 'particular', 'case', 'are', 'glossed', 'over', 'by', 'the', 'media.']\n",
      "['place.', 'Having', 'this', 'research', 'is', 'incredibly', 'important,', 'I.e.', 'access', 'to', 'information', 'has', 'a', 'really', 'high', 'value.', '']\n",
      "['countries', 'are', 'dependent', 'economically', 'on', 'the', 'actual', 'success', 'of', 'these', 'smaller', 'nations', 'that', 'are', 'worse', 'off,', 'we', 'think', 'they', 'are', 'more', 'likely', 'to', 'actually', 'care.', 'We', 'think', 'that', 'you', 'created', 'a', 'collective', 'interest', 'in', 'the', 'growth', 'of', 'these', 'countries.', 'We', 'think', 'that', 'it', 'is', 'possible', 'to', 'monitor', 'and', 'regulate', 'how', 'this', 'investment', 'happened', 'because', 'you', 'want', 'a', 'return.']\n",
      "['they', 'have', 'outside', 'of', 'that', 'to', 'the', 'facts', 'given,', 'which', 'is', 'there', 'is', 'a', 'much', 'higher', 'mortality', 'rate', 'for', 'POC', 'mothers', 'than', 'white', 'mothers', 'in', 'the', 'United', 'States.', 'We', 'believe', 'that', 'this', 'is', 'the', 'kind', 'of', 'applying', 'the', 'empathy', 'you', 'already', 'have', 'to', 'facts', 'given', 'to', 'you', 'that', 'is', 'going', 'to', 'bring', 'us', 'this', 'debate', 'on', 'our', 'side', 'that', 'helps.', 'We', \"don't\", 'believe', 'that', 'you', \"shouldn't\", 'have', 'empathy', 'at', 'all,', 'but', 'we', \"don't\", 'believe', 'that', 'you', 'should', 'base', 'politic-', 'that', 'leaders', 'should', 'pander', 'to', 'you', 'with', 'emotions,', 'and', 'tell', 'you', 'the', 'emotion', 'you', 'should', 'feel', 'about', 'policies.', 'We', 'believe', 'you', 'should', 'come', 'up', 'with', 'those', 'by', 'your', 'own,', 'based', 'on', 'the', 'facts', \"we're\", 'given', 'in', 'the', 'situation.']\n",
      "['to', 'hurt', 'the', 'countries', 'that', 'want', 'to', 'do', 'the', 'most', 'trade', 'with', 'other', 'nations', 'that', 'are', 'within', 'ACN.\\nAnd', 'we', 'think,', 'tells', 'you', 'that', \"it's\", 'making,', 'inhibiting', 'trade', 'and', 'making', 'those', 'currencies', 'more', 'expensive', 'versus', 'China', \"who's\", 'always', 'going', 'to', 'have', 'a', 'lower', 'export', 'currency', 'and', 'is', 'always', 'going', 'to', 'be', 'able', 'to', 'export', 'to', 'the', 'West,', 'and', 'to', 'within', 'Asia', 'as', 'well.\\n']\n",
      "['because', 'then,', 'the', 'narrative', 'in', 'poor', 'communities', 'is', 'that', 'a', 'large', 'amount', 'of', 'people', 'are', 'just', 'not', 'good', 'enough', 'and', 'they', 'are', 'not', 'made', 'for', 'this.', \"They're\", 'not', 'born', 'for', 'this,', 'but', 'in', 'communities', 'with', 'the', 'actual', 'ability', 'to', 'afford', 'that', 'care,', 'they', 'are', 'told', 'that', 'falling', 'behind', 'is', 'not', 'their', 'faults', 'and', 'all', 'they', 'have', 'to', 'do', 'is', 'spend', 'more', 'time', 'and', 'have', 'people', 'spend', 'more', 'care', 'upon', 'them', 'to', 'actually', 'catch', 'up.', 'While', 'in', 'poor', 'communities,', 'they', 'are', 'told', 'that', 'they', 'cannot', 'catch', 'up', 'because', \"that's\", 'not', 'who', 'they', 'are.', 'We', 'think', \"that's\", 'a', 'tragedy', 'that', 'can', 'be', 'fixed', 'when', 'we', 'find', 'things', 'better', 'and', 'are', 'able', 'to', 'provide', 'better', 'care.', 'When', 'we', 'free', 'parents', 'to', 'send', 'their', 'kids', 'to', 'better', 'care', 'or', 'subsidized', 'care', 'such', 'that', 'parents', 'can', 'get', 'better', 'care.\\nI', 'think', 'that', 'when', 'we', 'improve', 'the', 'ability', 'for', 'parents', 'to', 'actually', 'care', 'about', 'the', 'formative', 'years', 'and', 'children', 'get', 'the', 'messaging', 'that', 'they', 'needs', 'to', 'be', 'told', 'and', 'this', 'creates', 'a', 'better', 'platform', 'for', 'them', 'to', 'move', 'forward?', 'Note,', 'I', 'think', 'the', 'imperative', 'that', 'all', 'politely', 'it', 'presents', 'is', 'that', 'people', 'are', 'better', 'able', 'to', 'access', 'post', 'secondary', 'education.', 'Note,', 'first', 'and', 'foremost,', 'that', 'not', 'everyone', 'can', 'access', 'post', 'secondary', 'education.', 'People', 'who', 'are', 'able', 'to', 'access', 'it', 'are', 'told', 'that', \"they're\", 'special', 'and', 'they', 'have', 'the', 'ability', 'to', 'escape', 'cause', \"they're\", 'smart', 'and', \"they're\", 'talented.']\n",
      "['in', 'school.', 'We', 'think', 'that', 'narrative', 'is', 'important', 'to', 'be', 'changed.']\n",
      "['they', \"don't\", 'have', 'the', 'same', 'incentive', 'to', 'care.', 'Therefore,', 'under', 'the', 'status', 'quo,', 'where', 'objectivity', 'is', 'the', 'standard.', 'Their', 'opinion', 'is', 'valued', 'much', 'higher', 'when', 'it', \"shouldn't\", 'be,', 'and', 'this', 'just', 'does', 'not', 'motivate', 'political', 'change', 'work', 'where', 'it', 'should', 'be.', '']\n",
      "['by', 'looking', 'at', 'the', 'comparative.', 'So', 'if', 'these', 'feelings', 'and', 'subjective', 'feelings', 'were', 'excluded', 'from', 'this', 'debate,', 'then', 'we', 'simply', 'would', 'not', 'have', 'insight', 'into', 'feelings', 'of,', 'specifically', 'in', 'this', 'case', 'and', 'which', 'can', 'be', 'seen', 'on', 'a', 'more', 'broad', 'scale,', 'marginalized', 'communities.']\n",
      "['of', 'the', 'situation.']\n",
      "['right?', 'We,', 'we,', 'on', 'our', 'side,', 'we', 'get', 'people', 'having', 'conversations', 'about', 'the', 'impacts', 'that', 'mattered', 'to', 'them', 'instead', 'of', 'just', 'how', 'the', 'facts', 'pertain', 'to', 'them,', 'right?', 'So,', 'so', \"let's\", 'look', 'at', 'an', 'example', 'of', 'this', 'opposition', 'product.', 'The,', 'the', 'thing', 'with', 'police', 'brutality', 'and', 'the', 'Black', 'Lives', 'Matter', 'Movement.', 'Well,', 'what', 'do', 'we', 'get', 'with', 'subjectivity?', 'What', 'we', 'get', 'when', \"we're\", 'having', 'a', 'conversation', 'on', 'Black', 'Lives', 'Matter,', 'what', 'subjectivity', 'is,', 'you', 'get', 'a', 'large', 'group', 'of', 'people', 'saying', 'that,', '\"Oh', 'these,', 'the', 'group', 'of', 'people', \"that's\", 'All', 'Lives', 'Matter...\",', 'they', 'say', 'that', 'the,', 'the,', 'the', 'BLM', 'people', 'are', 'either', 'too', 'reactionary', 'or', \"they're,\", 'or', \"they're\", 'saying', 'stuff', 'like,', 'like,', '\"Oh,', \"they're\", 'radical', 'or,', 'or,', 'or,', 'they', \"don't\", 'want', 'the', 'best', 'for', 'society.', 'When', 'you', 'look', 'at', \"what's\", 'actually', 'going', 'on', 'objectively,', 'when', 'you,', 'when', 'you', 'see', 'what,', \"what's\", 'actually', 'happening', 'to', 'these', 'people', 'and', 'you', 'have,', 'you', 'have', 'the', 'people', 'in', 'these', 'political', 'debates', 'talking', 'about', 'what', 'is', 'actually', 'happening', 'within', 'those', 'communities', 'and', 'within', 'the', 'wider', 'community,', 'you', 'can', 'get', 'people', 'start', 'to', 'see', 'the', 'actual', 'harms', 'of,', 'of,', 'of,', 'maybe', 'not', 'having', 'this', 'Black', 'Lives', 'Matter', 'Movement', 'or', 'the', 'harms', 'that', 'these', 'people', 'are', 'actually', 'advocating', 'against.', 'Instead', 'of,', 'when', \"you're,\", 'when,', 'when', \"it's\", 'subjective,', 'you', 'get', 'all', 'these', 'people', 'talk,', 'just', 'talking', 'about', 'how,', '\"Oh', 'that', 'problem,', 'that', \"doesn't\", 'even', 'matter', 'to', 'me,', 'because', \"I'm\", 'not', 'black,', 'so', 'I', \"don't\", 'care', 'about', 'it', 'and', 'in', 'my', 'own', 'personal', 'subjective', 'narrative,', 'it', 'does', 'not', 'matter', 'to', 'me.\"', 'Right?', 'But', 'when', \"you're\", 'talking', 'about', 'an', 'objective,', 'you', 'get', 'to', 'see', 'the', 'actual', 'harms', 'to', 'all', 'of', 'society', 'that,', 'that', 'seems', 'sorts', 'of', 'things', 'have.']\n",
      "['in', 'the', 'beginning', 'over', 'time,', 'objectivity', 'is', 'actually', 'winning', 'out', 'in', 'this', 'battle', 'against', 'the', 'power', 'majorities.', 'And,', 'we', 'also,', 'at', 'one', 'point,', 'on', 'our', 'ballots,', 'in', 'a', 'time', 'closing', 'government,', 'this', 'idea', 'about', 'empathizing', 'with', 'xenophobes.', 'I', 'think', \"it's\", 'a', 'really', 'misleading', 'argument,', 'because', 'if', 'we', 'empathize', 'with', 'xenophobes,', 'what', 'you', 'feel', 'is', 'okay,', 'what', 'you', 'feel', 'is', 'right,', 'what', 'they', 'feel', 'is', 'a', 'hatred', 'and', 'fear', 'of', 'outsiders.', 'That', 'is', 'not', 'okay,', 'that', 'is', 'not', 'all', 'right.', 'What,', 'instead,', 'we', 'want', 'to', 'do', 'is', 'show', 'them', 'the', 'objective', 'facts', 'and', 'the', 'reasons', 'behind', 'why', 'they', \"shouldn't\", 'be', 'afraid', 'of', 'outsiders,', 'because', 'in', 'fact,', 'immigration', 'is', 'really', 'beneficial.', 'Diversity', 'is', 'really', 'beneficial,', 'its', 'really', 'helpful', 'for', 'the', 'economy.', 'These', 'are', 'the', 'ways', 'that', 'we', 'show', 'people', 'why', 'their', 'views', 'are', 'not', 'going', 'to', 'help', 'them,', 'and', 'why', 'we', 'should', 'actually', 'make', 'a', 'much', 'better', 'society', 'by', 'trading', 'discourse.', 'Subjective', 'experiences,', \"I'm\", 'also', 'going', 'to,', 'it', \"must've\", 'been', 'weaponized', 'by', 'power', 'majorities,', 'because', 'subjective', 'and', 'the', 'emotion,', 'always', 'plays', 'better', 'in', 'the', 'media.', 'Power', 'majorities', 'have', 'much,', 'much', 'better', 'access', 'to', 'media', 'apparatus', 'due', 'to', 'their', 'status', 'in', 'society.', 'So', \"they're\", 'always', 'going', 'to', 'be', 'able', 'to', 'weaponize', 'these', 'narratives', 'in', 'a', 'better', 'way.', 'Power', 'minorities', 'can', 'use', 'the', 'simple', 'power', 'of', 'truth', 'to', 'equalize', 'the', 'scales,', 'because', 'smaller', \"NGO's\", 'and', 'groups', 'like', 'Politifact', 'can', 'actually', 'check', 'those', 'narratives,', 'can', 'show', 'that...', 'Not', \"everyone's\", 'going', 'to', 'buy', 'into', 'this', 'stuff,', 'and', \"everyone's\", 'going', 'to', 'see', 'that', 'over', 'time', 'the', 'march', 'of', 'truth', 'is', 'and', 'always', 'check', 'back', 'against', 'these', 'narratives', 'that', 'power', 'majorities', 'propagate', 'through', 'the', 'media.']\n",
      "['people', 'rather', 'than', 'just', 'one', 'rural', 'community.', 'And', 'we', 'think', 'this', 'is', 'inherently', 'bad.', 'Because', 'if', 'politicians', 'believe', 'voters', 'could', 'only', '...', 'If', 'voters', 'believe', 'that', 'politicians', 'can', 'only', 'support', 'those', 'who', 'have', 'identical', 'experiences', 'with', 'them,', 'this', 'will', 'decrease', 'their', 'faith', 'in', 'the', 'government', 'structure', 'as', 'a', 'whole.', 'They', 'will', 'have', 'less', 'faith', 'that', 'government', 'can', 'actually', 'represent', 'them', 'if', 'they', \"don't\", 'see', 'a', 'candidate', 'who', 'is', 'directly', 'in', 'line', 'with', 'their', 'experiences,', 'their', 'emotions,', 'their', 'ideals.And', 'if', 'they', 'have', 'less', 'focus,', 'if', 'they', \"don't\", 'see', 'candidates', 'that', 'can', 'represent', 'them', 'and', 'they', 'see', 'that,', \"there'll\", 'be', 'less', 'voter', 'turnout,', \"there'll\", 'be', 'just', 'overall', 'a', 'falling', 'down', 'of', 'government', 'and', '...', 'No,', 'thank', 'you.', 'And', 'that', 'is', 'the', 'alternative', 'world', 'we', 'oppose', 'where', 'a', 'politician', '...', 'where,', 'in', 'our', 'regrets', 'motion,', 'where', 'electing', 'would', 'be', 'based', 'solely', 'on', 'ethos.', '']\n",
      "['something,', \"it's\", 'they', 'just', \"don't\", 'exist.', 'So', 'with', 'this', 'type', 'of', 'funding,', 'not', 'only', 'are', 'you', 'able', 'to', 'subsidize', 'it', 'for', 'people', 'who', 'maybe', \"can't\", 'afford', 'it,', \"you're\", 'also', 'able', 'to', 'give', 'that', 'money', 'to', 'actually', 'start', 'having', 'these', 'programs', 'in', 'some', 'places', 'that', \"don't\", 'have', 'it.', 'And', 'so', 'now', 'kids', 'who', 'maybe', 'people', \"weren't\", 'able', 'to', 'send', 'them', 'to', 'preschool', 'or', 'school', 'at', 'all', 'in', 'lots', 'of', 'areas', 'of', 'rural', '[00:02:56]', 'they', \"don't\", 'even', 'have', 'child', 'labor', 'laws,', 'so', 'they', 'just', 'send', 'their', 'kids', 'to', 'go', 'work', 'or', 'work', 'for', 'the', 'family', 'or', 'something', 'like', 'that.', 'Instead', 'of', 'sending', 'them', 'to', 'school', 'when', 'they', 'have', 'that', 'option', 'of', 'sending', 'the', 'child', 'to', 'school,', 'which', 'you', 'only', 'get', 'on', 'our', 'side,', 'and', \"they're\", 'actually', 'able', 'to', 'go', 'get', 'that', 'education.']\n"
     ]
    }
   ],
   "source": [
    "for i in dftrain_red.index:\n",
    "    text = dftrain_red['text'].iloc[i].split(' ')\n",
    "    if len(text)>400:\n",
    "        print(text[400:])"
   ]
  },
  {
   "cell_type": "code",
   "execution_count": null,
   "metadata": {},
   "outputs": [],
   "source": []
  }
 ],
 "metadata": {
  "kernelspec": {
   "display_name": "Python 3",
   "language": "python",
   "name": "python3"
  },
  "language_info": {
   "codemirror_mode": {
    "name": "ipython",
    "version": 3
   },
   "file_extension": ".py",
   "mimetype": "text/x-python",
   "name": "python",
   "nbconvert_exporter": "python",
   "pygments_lexer": "ipython3",
   "version": "3.7.4"
  }
 },
 "nbformat": 4,
 "nbformat_minor": 2
}
