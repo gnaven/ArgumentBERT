{
 "cells": [
  {
   "cell_type": "code",
   "execution_count": 186,
   "metadata": {},
   "outputs": [],
   "source": [
    "import pandas as pd\n",
    "import numpy as np\n",
    "import matplotlib.pyplot as plt\n",
    "import uuid\n",
    "import pickle"
   ]
  },
  {
   "cell_type": "code",
   "execution_count": 17,
   "metadata": {},
   "outputs": [],
   "source": [
    "df = pd.read_csv('../DataPaper/data/transcript_tags1_clean.csv')\n",
    "df_tour = pd.read_csv('../DataPaper/data/scores_surveys.csv')"
   ]
  },
  {
   "cell_type": "code",
   "execution_count": 24,
   "metadata": {},
   "outputs": [
    {
     "data": {
      "text/html": [
       "<div>\n",
       "<style scoped>\n",
       "    .dataframe tbody tr th:only-of-type {\n",
       "        vertical-align: middle;\n",
       "    }\n",
       "\n",
       "    .dataframe tbody tr th {\n",
       "        vertical-align: top;\n",
       "    }\n",
       "\n",
       "    .dataframe thead th {\n",
       "        text-align: right;\n",
       "    }\n",
       "</style>\n",
       "<table border=\"1\" class=\"dataframe\">\n",
       "  <thead>\n",
       "    <tr style=\"text-align: right;\">\n",
       "      <th></th>\n",
       "      <th>Unnamed: 0</th>\n",
       "      <th>text</th>\n",
       "      <th>label</th>\n",
       "      <th>username</th>\n",
       "      <th>round</th>\n",
       "    </tr>\n",
       "  </thead>\n",
       "  <tbody>\n",
       "    <tr>\n",
       "      <th>0</th>\n",
       "      <td>0</td>\n",
       "      <td>This is a response to why we think office to o...</td>\n",
       "      <td>introduction</td>\n",
       "      <td>gabbishilcusky</td>\n",
       "      <td>round5</td>\n",
       "    </tr>\n",
       "    <tr>\n",
       "      <th>1</th>\n",
       "      <td>1</td>\n",
       "      <td>So I think that opening Government substantiat...</td>\n",
       "      <td>rebuttal1</td>\n",
       "      <td>gabbishilcusky</td>\n",
       "      <td>round5</td>\n",
       "    </tr>\n",
       "    <tr>\n",
       "      <th>2</th>\n",
       "      <td>2</td>\n",
       "      <td>Okay. So in response to closing Governement.I ...</td>\n",
       "      <td>rebuttal2</td>\n",
       "      <td>gabbishilcusky</td>\n",
       "      <td>round5</td>\n",
       "    </tr>\n",
       "    <tr>\n",
       "      <th>3</th>\n",
       "      <td>3</td>\n",
       "      <td>Dennis's gave us an example of how in the hobb...</td>\n",
       "      <td>constructive1</td>\n",
       "      <td>gabbishilcusky</td>\n",
       "      <td>round5</td>\n",
       "    </tr>\n",
       "    <tr>\n",
       "      <th>4</th>\n",
       "      <td>4</td>\n",
       "      <td>ecause recognize the people who decide what ca...</td>\n",
       "      <td>constructive2</td>\n",
       "      <td>gabbishilcusky</td>\n",
       "      <td>round5</td>\n",
       "    </tr>\n",
       "  </tbody>\n",
       "</table>\n",
       "</div>"
      ],
      "text/plain": [
       "   Unnamed: 0                                               text  \\\n",
       "0           0  This is a response to why we think office to o...   \n",
       "1           1  So I think that opening Government substantiat...   \n",
       "2           2  Okay. So in response to closing Governement.I ...   \n",
       "3           3  Dennis's gave us an example of how in the hobb...   \n",
       "4           4  ecause recognize the people who decide what ca...   \n",
       "\n",
       "           label        username   round  \n",
       "0   introduction  gabbishilcusky  round5  \n",
       "1      rebuttal1  gabbishilcusky  round5  \n",
       "2      rebuttal2  gabbishilcusky  round5  \n",
       "3  constructive1  gabbishilcusky  round5  \n",
       "4  constructive2  gabbishilcusky  round5  "
      ]
     },
     "execution_count": 24,
     "metadata": {},
     "output_type": "execute_result"
    }
   ],
   "source": [
    "df.head()"
   ]
  },
  {
   "cell_type": "code",
   "execution_count": 20,
   "metadata": {},
   "outputs": [],
   "source": [
    "df_tour = df_tour[['round','username','score']].dropna()"
   ]
  },
  {
   "cell_type": "code",
   "execution_count": 21,
   "metadata": {},
   "outputs": [
    {
     "data": {
      "text/html": [
       "<div>\n",
       "<style scoped>\n",
       "    .dataframe tbody tr th:only-of-type {\n",
       "        vertical-align: middle;\n",
       "    }\n",
       "\n",
       "    .dataframe tbody tr th {\n",
       "        vertical-align: top;\n",
       "    }\n",
       "\n",
       "    .dataframe thead th {\n",
       "        text-align: right;\n",
       "    }\n",
       "</style>\n",
       "<table border=\"1\" class=\"dataframe\">\n",
       "  <thead>\n",
       "    <tr style=\"text-align: right;\">\n",
       "      <th></th>\n",
       "      <th>round</th>\n",
       "      <th>username</th>\n",
       "      <th>score</th>\n",
       "    </tr>\n",
       "  </thead>\n",
       "  <tbody>\n",
       "    <tr>\n",
       "      <th>0</th>\n",
       "      <td>round2</td>\n",
       "      <td>AdiJK</td>\n",
       "      <td>78.0</td>\n",
       "    </tr>\n",
       "    <tr>\n",
       "      <th>1</th>\n",
       "      <td>round2</td>\n",
       "      <td>jmorgan</td>\n",
       "      <td>76.0</td>\n",
       "    </tr>\n",
       "    <tr>\n",
       "      <th>2</th>\n",
       "      <td>round2</td>\n",
       "      <td>jbotkin1</td>\n",
       "      <td>81.0</td>\n",
       "    </tr>\n",
       "    <tr>\n",
       "      <th>3</th>\n",
       "      <td>round2</td>\n",
       "      <td>Bfalkofs</td>\n",
       "      <td>77.0</td>\n",
       "    </tr>\n",
       "    <tr>\n",
       "      <th>4</th>\n",
       "      <td>round2</td>\n",
       "      <td>aabruzz1</td>\n",
       "      <td>79.0</td>\n",
       "    </tr>\n",
       "  </tbody>\n",
       "</table>\n",
       "</div>"
      ],
      "text/plain": [
       "    round  username  score\n",
       "0  round2     AdiJK   78.0\n",
       "1  round2   jmorgan   76.0\n",
       "2  round2  jbotkin1   81.0\n",
       "3  round2  Bfalkofs   77.0\n",
       "4  round2  aabruzz1   79.0"
      ]
     },
     "execution_count": 21,
     "metadata": {},
     "output_type": "execute_result"
    }
   ],
   "source": [
    "df_tour['round'] = df_tour['round'].apply(lambda x: 'round'+str(int(x)))\n",
    "df_tour.head()"
   ]
  },
  {
   "cell_type": "code",
   "execution_count": 25,
   "metadata": {},
   "outputs": [],
   "source": [
    "df_trans = df.merge(df_tour, on = ['username','round'], how='left').drop('Unnamed: 0',axis=1)"
   ]
  },
  {
   "cell_type": "code",
   "execution_count": 26,
   "metadata": {},
   "outputs": [
    {
     "data": {
      "text/html": [
       "<div>\n",
       "<style scoped>\n",
       "    .dataframe tbody tr th:only-of-type {\n",
       "        vertical-align: middle;\n",
       "    }\n",
       "\n",
       "    .dataframe tbody tr th {\n",
       "        vertical-align: top;\n",
       "    }\n",
       "\n",
       "    .dataframe thead th {\n",
       "        text-align: right;\n",
       "    }\n",
       "</style>\n",
       "<table border=\"1\" class=\"dataframe\">\n",
       "  <thead>\n",
       "    <tr style=\"text-align: right;\">\n",
       "      <th></th>\n",
       "      <th>text</th>\n",
       "      <th>label</th>\n",
       "      <th>username</th>\n",
       "      <th>round</th>\n",
       "      <th>score</th>\n",
       "    </tr>\n",
       "  </thead>\n",
       "  <tbody>\n",
       "    <tr>\n",
       "      <th>0</th>\n",
       "      <td>This is a response to why we think office to o...</td>\n",
       "      <td>introduction</td>\n",
       "      <td>gabbishilcusky</td>\n",
       "      <td>round5</td>\n",
       "      <td>78.0</td>\n",
       "    </tr>\n",
       "    <tr>\n",
       "      <th>1</th>\n",
       "      <td>So I think that opening Government substantiat...</td>\n",
       "      <td>rebuttal1</td>\n",
       "      <td>gabbishilcusky</td>\n",
       "      <td>round5</td>\n",
       "      <td>78.0</td>\n",
       "    </tr>\n",
       "    <tr>\n",
       "      <th>2</th>\n",
       "      <td>Okay. So in response to closing Governement.I ...</td>\n",
       "      <td>rebuttal2</td>\n",
       "      <td>gabbishilcusky</td>\n",
       "      <td>round5</td>\n",
       "      <td>78.0</td>\n",
       "    </tr>\n",
       "    <tr>\n",
       "      <th>3</th>\n",
       "      <td>Dennis's gave us an example of how in the hobb...</td>\n",
       "      <td>constructive1</td>\n",
       "      <td>gabbishilcusky</td>\n",
       "      <td>round5</td>\n",
       "      <td>78.0</td>\n",
       "    </tr>\n",
       "    <tr>\n",
       "      <th>4</th>\n",
       "      <td>ecause recognize the people who decide what ca...</td>\n",
       "      <td>constructive2</td>\n",
       "      <td>gabbishilcusky</td>\n",
       "      <td>round5</td>\n",
       "      <td>78.0</td>\n",
       "    </tr>\n",
       "  </tbody>\n",
       "</table>\n",
       "</div>"
      ],
      "text/plain": [
       "                                                text          label  \\\n",
       "0  This is a response to why we think office to o...   introduction   \n",
       "1  So I think that opening Government substantiat...      rebuttal1   \n",
       "2  Okay. So in response to closing Governement.I ...      rebuttal2   \n",
       "3  Dennis's gave us an example of how in the hobb...  constructive1   \n",
       "4  ecause recognize the people who decide what ca...  constructive2   \n",
       "\n",
       "         username   round  score  \n",
       "0  gabbishilcusky  round5   78.0  \n",
       "1  gabbishilcusky  round5   78.0  \n",
       "2  gabbishilcusky  round5   78.0  \n",
       "3  gabbishilcusky  round5   78.0  \n",
       "4  gabbishilcusky  round5   78.0  "
      ]
     },
     "execution_count": 26,
     "metadata": {},
     "output_type": "execute_result"
    }
   ],
   "source": [
    "df_trans.head()"
   ]
  },
  {
   "cell_type": "code",
   "execution_count": 34,
   "metadata": {},
   "outputs": [
    {
     "data": {
      "image/png": "[encoded data removed]",
      "text/plain": [
       "<Figure size 432x288 with 1 Axes>"
      ]
     },
     "metadata": {
      "needs_background": "light"
     },
     "output_type": "display_data"
    }
   ],
   "source": [
    "df_trans['score'].hist()\n",
    "plt.show()"
   ]
  },
  {
   "cell_type": "code",
   "execution_count": 35,
   "metadata": {},
   "outputs": [],
   "source": [
    "score_class = {70:1,71:2,72:3,73:4,74:5,75:6,76:7,77:8,78:9,\n",
    "               79:10,80:11,81:12,82:13,83:14,84:15}"
   ]
  },
  {
   "cell_type": "code",
   "execution_count": 37,
   "metadata": {},
   "outputs": [],
   "source": [
    "df_trans = df_trans.dropna()"
   ]
  },
  {
   "cell_type": "code",
   "execution_count": 38,
   "metadata": {},
   "outputs": [],
   "source": [
    "df_trans['score_class'] = df_trans['score'].apply(lambda x: score_class[x])"
   ]
  },
  {
   "cell_type": "code",
   "execution_count": 42,
   "metadata": {},
   "outputs": [],
   "source": [
    "df_trans = pd.read_csv('../DataPaper/data/ann_transcript_score_class.csv')"
   ]
  },
  {
   "cell_type": "code",
   "execution_count": 56,
   "metadata": {},
   "outputs": [],
   "source": [
    "df_cons = df_trans[df_trans['label'].str.contains('constructive')].reset_index()\n",
    "df_cons = df_cons.drop(['Unnamed: 0','index'],axis = 1)"
   ]
  },
  {
   "cell_type": "code",
   "execution_count": 64,
   "metadata": {},
   "outputs": [
    {
     "data": {
      "text/html": [
       "<div>\n",
       "<style scoped>\n",
       "    .dataframe tbody tr th:only-of-type {\n",
       "        vertical-align: middle;\n",
       "    }\n",
       "\n",
       "    .dataframe tbody tr th {\n",
       "        vertical-align: top;\n",
       "    }\n",
       "\n",
       "    .dataframe thead th {\n",
       "        text-align: right;\n",
       "    }\n",
       "</style>\n",
       "<table border=\"1\" class=\"dataframe\">\n",
       "  <thead>\n",
       "    <tr style=\"text-align: right;\">\n",
       "      <th></th>\n",
       "      <th>text</th>\n",
       "      <th>label</th>\n",
       "      <th>username</th>\n",
       "      <th>round</th>\n",
       "      <th>score</th>\n",
       "    </tr>\n",
       "    <tr>\n",
       "      <th>score_class</th>\n",
       "      <th></th>\n",
       "      <th></th>\n",
       "      <th></th>\n",
       "      <th></th>\n",
       "      <th></th>\n",
       "    </tr>\n",
       "  </thead>\n",
       "  <tbody>\n",
       "    <tr>\n",
       "      <th>1</th>\n",
       "      <td>2</td>\n",
       "      <td>2</td>\n",
       "      <td>2</td>\n",
       "      <td>2</td>\n",
       "      <td>2</td>\n",
       "    </tr>\n",
       "    <tr>\n",
       "      <th>2</th>\n",
       "      <td>19</td>\n",
       "      <td>19</td>\n",
       "      <td>19</td>\n",
       "      <td>19</td>\n",
       "      <td>19</td>\n",
       "    </tr>\n",
       "    <tr>\n",
       "      <th>3</th>\n",
       "      <td>15</td>\n",
       "      <td>15</td>\n",
       "      <td>15</td>\n",
       "      <td>15</td>\n",
       "      <td>15</td>\n",
       "    </tr>\n",
       "    <tr>\n",
       "      <th>4</th>\n",
       "      <td>59</td>\n",
       "      <td>59</td>\n",
       "      <td>59</td>\n",
       "      <td>59</td>\n",
       "      <td>59</td>\n",
       "    </tr>\n",
       "    <tr>\n",
       "      <th>5</th>\n",
       "      <td>62</td>\n",
       "      <td>62</td>\n",
       "      <td>62</td>\n",
       "      <td>62</td>\n",
       "      <td>62</td>\n",
       "    </tr>\n",
       "    <tr>\n",
       "      <th>6</th>\n",
       "      <td>71</td>\n",
       "      <td>71</td>\n",
       "      <td>71</td>\n",
       "      <td>71</td>\n",
       "      <td>71</td>\n",
       "    </tr>\n",
       "    <tr>\n",
       "      <th>7</th>\n",
       "      <td>151</td>\n",
       "      <td>151</td>\n",
       "      <td>151</td>\n",
       "      <td>151</td>\n",
       "      <td>151</td>\n",
       "    </tr>\n",
       "    <tr>\n",
       "      <th>8</th>\n",
       "      <td>135</td>\n",
       "      <td>135</td>\n",
       "      <td>135</td>\n",
       "      <td>135</td>\n",
       "      <td>135</td>\n",
       "    </tr>\n",
       "    <tr>\n",
       "      <th>9</th>\n",
       "      <td>66</td>\n",
       "      <td>66</td>\n",
       "      <td>66</td>\n",
       "      <td>66</td>\n",
       "      <td>66</td>\n",
       "    </tr>\n",
       "    <tr>\n",
       "      <th>10</th>\n",
       "      <td>82</td>\n",
       "      <td>82</td>\n",
       "      <td>82</td>\n",
       "      <td>82</td>\n",
       "      <td>82</td>\n",
       "    </tr>\n",
       "    <tr>\n",
       "      <th>11</th>\n",
       "      <td>94</td>\n",
       "      <td>94</td>\n",
       "      <td>94</td>\n",
       "      <td>94</td>\n",
       "      <td>94</td>\n",
       "    </tr>\n",
       "    <tr>\n",
       "      <th>12</th>\n",
       "      <td>22</td>\n",
       "      <td>22</td>\n",
       "      <td>22</td>\n",
       "      <td>22</td>\n",
       "      <td>22</td>\n",
       "    </tr>\n",
       "    <tr>\n",
       "      <th>13</th>\n",
       "      <td>12</td>\n",
       "      <td>12</td>\n",
       "      <td>12</td>\n",
       "      <td>12</td>\n",
       "      <td>12</td>\n",
       "    </tr>\n",
       "    <tr>\n",
       "      <th>14</th>\n",
       "      <td>2</td>\n",
       "      <td>2</td>\n",
       "      <td>2</td>\n",
       "      <td>2</td>\n",
       "      <td>2</td>\n",
       "    </tr>\n",
       "    <tr>\n",
       "      <th>15</th>\n",
       "      <td>9</td>\n",
       "      <td>9</td>\n",
       "      <td>9</td>\n",
       "      <td>9</td>\n",
       "      <td>9</td>\n",
       "    </tr>\n",
       "  </tbody>\n",
       "</table>\n",
       "</div>"
      ],
      "text/plain": [
       "             text  label  username  round  score\n",
       "score_class                                     \n",
       "1               2      2         2      2      2\n",
       "2              19     19        19     19     19\n",
       "3              15     15        15     15     15\n",
       "4              59     59        59     59     59\n",
       "5              62     62        62     62     62\n",
       "6              71     71        71     71     71\n",
       "7             151    151       151    151    151\n",
       "8             135    135       135    135    135\n",
       "9              66     66        66     66     66\n",
       "10             82     82        82     82     82\n",
       "11             94     94        94     94     94\n",
       "12             22     22        22     22     22\n",
       "13             12     12        12     12     12\n",
       "14              2      2         2      2      2\n",
       "15              9      9         9      9      9"
      ]
     },
     "execution_count": 64,
     "metadata": {},
     "output_type": "execute_result"
    }
   ],
   "source": [
    "df_cons.groupby(['score_class']).count()"
   ]
  },
  {
   "cell_type": "code",
   "execution_count": 58,
   "metadata": {},
   "outputs": [],
   "source": [
    "dftest_list =[]\n",
    "dftrain_list = []\n",
    "for score in df_cons['score_class'].unique():\n",
    "    test = df_cons[df_cons['score_class']==score].sample(frac = 1/5)\n",
    "    train = df_cons[df_cons['score_class']==score].drop(test.index)\n",
    "    dftest_list.append(test)\n",
    "    dftrain_list.append(train)"
   ]
  },
  {
   "cell_type": "code",
   "execution_count": 59,
   "metadata": {},
   "outputs": [],
   "source": [
    "dftest_cons = pd.concat(dftest_list)\n",
    "dftrain_cons = pd.concat(dftrain_list)"
   ]
  },
  {
   "cell_type": "code",
   "execution_count": 62,
   "metadata": {},
   "outputs": [
    {
     "data": {
      "text/plain": [
       "array([ 9,  7, 10, 11,  4,  8, 13,  6, 15,  5,  3, 12,  2])"
      ]
     },
     "execution_count": 62,
     "metadata": {},
     "output_type": "execute_result"
    }
   ],
   "source": [
    "dftest_cons['score_class'].unique()"
   ]
  },
  {
   "cell_type": "code",
   "execution_count": 65,
   "metadata": {},
   "outputs": [
    {
     "data": {
      "text/plain": [
       "array([ 9,  7, 10, 11,  4,  8, 13,  6, 15,  5,  3, 12,  2,  1, 14])"
      ]
     },
     "execution_count": 65,
     "metadata": {},
     "output_type": "execute_result"
    }
   ],
   "source": [
    "dftrain_cons['score_class'].unique()"
   ]
  },
  {
   "cell_type": "code",
   "execution_count": 66,
   "metadata": {},
   "outputs": [
    {
     "data": {
      "text/plain": [
       "(158, 6)"
      ]
     },
     "execution_count": 66,
     "metadata": {},
     "output_type": "execute_result"
    }
   ],
   "source": [
    "dftest_cons.shape"
   ]
  },
  {
   "cell_type": "code",
   "execution_count": 79,
   "metadata": {},
   "outputs": [],
   "source": [
    "dftest_cons =dftest_cons.reset_index()"
   ]
  },
  {
   "cell_type": "code",
   "execution_count": 68,
   "metadata": {},
   "outputs": [
    {
     "data": {
      "text/plain": [
       "(643, 6)"
      ]
     },
     "execution_count": 68,
     "metadata": {},
     "output_type": "execute_result"
    }
   ],
   "source": [
    "dftrain_cons.shape"
   ]
  },
  {
   "cell_type": "code",
   "execution_count": 80,
   "metadata": {},
   "outputs": [
    {
     "name": "stdout",
     "output_type": "stream",
     "text": [
      "70\n",
      "86\n"
     ]
    }
   ],
   "source": [
    "for i in dftest_cons.index:\n",
    "    text = dftest_cons['text'].iloc[i].split(' ')\n",
    "    if len(text)>512:\n",
    "        print(i)"
   ]
  },
  {
   "cell_type": "code",
   "execution_count": 82,
   "metadata": {},
   "outputs": [],
   "source": [
    "dftest_cons = dftest_cons.drop([70,86])"
   ]
  },
  {
   "cell_type": "code",
   "execution_count": 104,
   "metadata": {},
   "outputs": [],
   "source": [
    "dftest_cons = pd.read_csv('data/ann_transcript_score_class_test.csv')\n",
    "dftrain_cons = pd.read_csv('data/ann_transcript_score_class_train.csv')"
   ]
  },
  {
   "cell_type": "code",
   "execution_count": 86,
   "metadata": {},
   "outputs": [],
   "source": [
    "dftest_cons['score_class']=dftest_cons['score_class']-1\n",
    "dftrain_cons['score_class']=dftrain_cons['score_class']-1"
   ]
  },
  {
   "cell_type": "code",
   "execution_count": 87,
   "metadata": {},
   "outputs": [],
   "source": [
    "dftest_cons.to_csv('data/ann_transcript_score_class_test.csv')\n",
    "dftrain_cons.to_csv('data/ann_transcript_score_class_train.csv')"
   ]
  },
  {
   "cell_type": "code",
   "execution_count": 105,
   "metadata": {},
   "outputs": [
    {
     "data": {
      "text/plain": [
       "array([ 8,  6,  9, 10,  3,  7, 12,  5, 14,  4,  2, 11,  1,  0, 13])"
      ]
     },
     "execution_count": 105,
     "metadata": {},
     "output_type": "execute_result"
    }
   ],
   "source": [
    "dftrain_cons['score_class'].unique()"
   ]
  },
  {
   "cell_type": "code",
   "execution_count": 98,
   "metadata": {},
   "outputs": [],
   "source": [
    "def squash(x):\n",
    "    if x>=0 and x<=2:\n",
    "        return 0\n",
    "    elif x==3 or x==4:\n",
    "        return 1\n",
    "    elif x==5 or x == 6:\n",
    "        return 2\n",
    "    elif x == 7 or x==8:\n",
    "        return 3\n",
    "    elif x == 9 or x ==10:\n",
    "        return 4\n",
    "    elif x ==  11 or x ==12:\n",
    "        return 5\n",
    "    else:\n",
    "        return 6"
   ]
  },
  {
   "cell_type": "code",
   "execution_count": 106,
   "metadata": {},
   "outputs": [],
   "source": [
    "dftrain_red = dftrain_cons\n",
    "dftest_red = dftest_cons"
   ]
  },
  {
   "cell_type": "code",
   "execution_count": 107,
   "metadata": {},
   "outputs": [],
   "source": [
    "dftrain_red['score_class'] = dftrain_red['score_class'].apply(lambda x: squash(x))\n",
    "dftest_red['score_class'] = dftest_red['score_class'].apply(lambda x: squash(x))"
   ]
  },
  {
   "cell_type": "code",
   "execution_count": 111,
   "metadata": {},
   "outputs": [
    {
     "data": {
      "text/plain": [
       "array([3, 2, 4, 1, 5, 6, 0])"
      ]
     },
     "execution_count": 111,
     "metadata": {},
     "output_type": "execute_result"
    }
   ],
   "source": [
    "dftest_red['score_class'].unique()"
   ]
  },
  {
   "cell_type": "code",
   "execution_count": 198,
   "metadata": {
    "scrolled": true
   },
   "outputs": [],
   "source": [
    "def trunc(df):\n",
    "    for i in df.index:\n",
    "        text = df['text'].iloc[i].split(' ')\n",
    "        if len(text)>385:\n",
    "            sent = text[-385:]\n",
    "            sent = ' '.join(sent)\n",
    "            df['text'].iloc[i] = sent\n",
    "            print(i)\n",
    "    \n",
    "    return df"
   ]
  },
  {
   "cell_type": "code",
   "execution_count": 140,
   "metadata": {},
   "outputs": [
    {
     "name": "stderr",
     "output_type": "stream",
     "text": [
      "/opt/anaconda3/lib/python3.7/site-packages/ipykernel_launcher.py:1: FutureWarning: Sorting because non-concatenation axis is not aligned. A future version\n",
      "of pandas will change to not sort by default.\n",
      "\n",
      "To accept the future behavior, pass 'sort=False'.\n",
      "\n",
      "To retain the current behavior and silence the warning, pass 'sort=True'.\n",
      "\n",
      "  \"\"\"Entry point for launching an IPython kernel.\n"
     ]
    }
   ],
   "source": [
    "df = pd.concat([dftrain_red,dftest_red])"
   ]
  },
  {
   "cell_type": "code",
   "execution_count": 142,
   "metadata": {},
   "outputs": [],
   "source": [
    "df['id'] = df['username'] +'_'+df['round']"
   ]
  },
  {
   "cell_type": "code",
   "execution_count": 147,
   "metadata": {
    "scrolled": true
   },
   "outputs": [
    {
     "data": {
      "text/html": [
       "<div>\n",
       "<style scoped>\n",
       "    .dataframe tbody tr th:only-of-type {\n",
       "        vertical-align: middle;\n",
       "    }\n",
       "\n",
       "    .dataframe tbody tr th {\n",
       "        vertical-align: top;\n",
       "    }\n",
       "\n",
       "    .dataframe thead th {\n",
       "        text-align: right;\n",
       "    }\n",
       "</style>\n",
       "<table border=\"1\" class=\"dataframe\">\n",
       "  <thead>\n",
       "    <tr style=\"text-align: right;\">\n",
       "      <th></th>\n",
       "      <th>id</th>\n",
       "    </tr>\n",
       "    <tr>\n",
       "      <th>score_class</th>\n",
       "      <th></th>\n",
       "    </tr>\n",
       "  </thead>\n",
       "  <tbody>\n",
       "    <tr>\n",
       "      <th>0</th>\n",
       "      <td>10</td>\n",
       "    </tr>\n",
       "    <tr>\n",
       "      <th>1</th>\n",
       "      <td>33</td>\n",
       "    </tr>\n",
       "    <tr>\n",
       "      <th>2</th>\n",
       "      <td>49</td>\n",
       "    </tr>\n",
       "    <tr>\n",
       "      <th>3</th>\n",
       "      <td>43</td>\n",
       "    </tr>\n",
       "    <tr>\n",
       "      <th>4</th>\n",
       "      <td>39</td>\n",
       "    </tr>\n",
       "    <tr>\n",
       "      <th>5</th>\n",
       "      <td>5</td>\n",
       "    </tr>\n",
       "    <tr>\n",
       "      <th>6</th>\n",
       "      <td>3</td>\n",
       "    </tr>\n",
       "  </tbody>\n",
       "</table>\n",
       "</div>"
      ],
      "text/plain": [
       "             id\n",
       "score_class    \n",
       "0            10\n",
       "1            33\n",
       "2            49\n",
       "3            43\n",
       "4            39\n",
       "5             5\n",
       "6             3"
      ]
     },
     "execution_count": 147,
     "metadata": {},
     "output_type": "execute_result"
    }
   ],
   "source": [
    "df_helper=df.groupby('id')['score_class'].first().reset_index()\n",
    "df_helper.groupby('score_class').count()"
   ]
  },
  {
   "cell_type": "code",
   "execution_count": 156,
   "metadata": {},
   "outputs": [],
   "source": [
    "train_ids=[]\n",
    "test_ids=[]\n",
    "for score in df_helper['score_class'].unique():\n",
    "    test = df_helper[df_helper['score_class']==score].sample(frac = 1/5)\n",
    "    train = df_helper[df_helper['score_class']==score].drop(test.index)\n",
    "    train_ids= train_ids+list(train['id'].unique())\n",
    "    test_ids=test_ids+list(test['id'].unique())"
   ]
  },
  {
   "cell_type": "code",
   "execution_count": 159,
   "metadata": {},
   "outputs": [
    {
     "data": {
      "text/plain": [
       "182"
      ]
     },
     "execution_count": 159,
     "metadata": {},
     "output_type": "execute_result"
    }
   ],
   "source": [
    "len(train_ids)+len(test_ids)"
   ]
  },
  {
   "cell_type": "code",
   "execution_count": 212,
   "metadata": {},
   "outputs": [],
   "source": [
    "def make_df(df,id_list):\n",
    "    df_list=[]\n",
    "    for ids in id_list:\n",
    "        df_list.append(df[df['id']==ids])\n",
    "    return pd.concat(df_list)"
   ]
  },
  {
   "cell_type": "code",
   "execution_count": 164,
   "metadata": {},
   "outputs": [],
   "source": [
    "dftrain_red = make_df(df,train_ids)\n",
    "dftest_red = make_df(df,test_ids)"
   ]
  },
  {
   "cell_type": "code",
   "execution_count": 168,
   "metadata": {},
   "outputs": [
    {
     "data": {
      "text/plain": [
       "array([1, 4, 5, 2, 0, 3, 6])"
      ]
     },
     "execution_count": 168,
     "metadata": {},
     "output_type": "execute_result"
    }
   ],
   "source": [
    "dftest_red['score_class'].unique()"
   ]
  },
  {
   "cell_type": "code",
   "execution_count": 180,
   "metadata": {},
   "outputs": [],
   "source": [
    "dftest_red=dftest_red.reset_index()\n",
    "dftrain_red=dftrain_red.reset_index()"
   ]
  },
  {
   "cell_type": "code",
   "execution_count": 194,
   "metadata": {},
   "outputs": [],
   "source": [
    "dftest_red = pd.read_csv('data/ann_transcript_score_class_test.csv')\n",
    "dftrain_red = pd.read_csv('data/ann_transcript_score_class_train.csv')"
   ]
  },
  {
   "cell_type": "code",
   "execution_count": 199,
   "metadata": {},
   "outputs": [
    {
     "name": "stdout",
     "output_type": "stream",
     "text": [
      "105\n",
      "109\n",
      "112\n",
      "3\n",
      "5\n",
      "26\n",
      "60\n",
      "75\n",
      "89\n",
      "99\n",
      "100\n",
      "200\n",
      "209\n",
      "228\n",
      "231\n",
      "264\n",
      "357\n",
      "372\n",
      "382\n",
      "441\n",
      "464\n",
      "466\n",
      "475\n",
      "518\n",
      "569\n",
      "576\n",
      "578\n",
      "595\n",
      "596\n"
     ]
    }
   ],
   "source": [
    "dftest_red = trunc(dftest_red)\n",
    "dftrain_red = trunc(dftrain_red)"
   ]
  },
  {
   "cell_type": "code",
   "execution_count": 200,
   "metadata": {},
   "outputs": [],
   "source": [
    "dftest_red.to_csv('data/ann_transcript_score_class_test.csv')\n",
    "dftrain_red.to_csv('data/ann_transcript_score_class_train.csv')"
   ]
  },
  {
   "cell_type": "code",
   "execution_count": 181,
   "metadata": {},
   "outputs": [],
   "source": [
    "def make_dict(df):\n",
    "    dict_list = []\n",
    "    for i in df.index:\n",
    "        text = df['text'].iloc[i]\n",
    "        score = df['score_class'].iloc[i]\n",
    "        un_id = df['id'].iloc[i]\n",
    "        dict_list.append({text:[score,un_id]})\n",
    "    return dict_list"
   ]
  },
  {
   "cell_type": "code",
   "execution_count": 184,
   "metadata": {},
   "outputs": [],
   "source": [
    "test_list = make_dict(dftest_red)\n",
    "train_list = make_dict(dftrain_red)"
   ]
  },
  {
   "cell_type": "code",
   "execution_count": 185,
   "metadata": {},
   "outputs": [
    {
     "data": {
      "text/plain": [
       "[{\"Now going on to some of our points, it does exacerbate the divide. Having not having these taxes does exacerbate the divide between the rich and poor, because of the lack of property available for the middle class in suburbs. What they'll continue to do is continue to stay in these cities, they'll continue to pay these high rents, and they will stop other people who are in the cities from paying those rents.\": [1,\n",
       "   'akumthekar_round1']},\n",
       " {'what we are talking about, the last point that will be expanded upon in the model is about having a more diverse city. We have less marginalization.': [1,\n",
       "   'akumthekar_round1']},\n",
       " {\"In the case of America for example, there's often heavy support for different aspects of gun control, but none of those have passed whatsoever because of there's no real political will on the side of the legislature. If you want to talk about the fact that we're punishing the majority for the actions of the very few you can even see in some States in America like Wisconsin and in the South that are for the States that are banning religious liberties and doing so. What's happening is due to practices like and voter suppression, the majority of the population is able to overwhelmingly, at some points, even 60% vote against the legislature that will end up being elected. So what you're seeing is a very minority of the population is instead sort of setting the viewpoint of the legislature and other subnational governments.\": [1,\n",
       "   'ksbrown_round5']},\n",
       " {\"When you brought up this whole idea, if people are able to keep it to the bedroom, we agreed that we're not saying that we want people to not even be able to practice a religion in their homes and not feel as if they can't say what they are. What we're saying is they shouldn't be in positions of power, especially in terms of the government and not be able to use their identities to threaten and make other people feel often violated and uncomfortable. When we talk a lot about this whole idea that specific minorities, for example, trans people and people of color may often feel as if they've been oppressed by different religious groups. When these people have to go to the government for recourse, a trans person might not want to go to a government funded counselor or anything like that, that they know is extremely evangelical Christian because they know that they won't get the best care.\": [1,\n",
       "   'ksbrown_round5']},\n",
       " {\"It has no real will to want to be able to actually correspond to the federal government and cooperate with them. You see that the people most affected are going to be even further affected and when things like healthcare, when they say public transportation, which are often things that the legislature itself and subnational government tries to get rid of, are being cut off entirely. These people have no recourse and they're stuck in a system where they aren't able to actually change their government and allow there to be this change. Furthermore, we talk a lot about this key of secular governments. This whole idea that religion should be a private matter, which we think is true. They are onside government artificially conflate the banning of religion with this idea of separation of church and state. When we've talked about things in private where we want people to be able to practice their only religions, but what we don't want them to do is have those beliefs interfere with the government's activities and interfere with the public sphere to extend where it is intrusive on other people.\": [1,\n",
       "   'ksbrown_round5']},\n",
       " {'First off, my contention number on is that objectivity is necessary to the political process. In the United States, for example, or just Western liberal democracy in general, which I believe that we agree is kind of the scope of the debate, we can see that when we\\'re making policy that applies to the macro level, we absolutely need to know the wide scale objective changes that are going to occur as a result of our policy. One person\\'s experience in relation to this policy should not be something that outweighs the objective statistical values that are achieved through this policy. For example, one of the things that we\\'re doing right now is... An argument is common in America these days, to basically say that, \"Well, there are problems with this policy because it\\'s going to make life harder for a select few individuals.\" But they seem to ignore on the other side of that policy is that it\\'s making it easier for millions of Americans to live in a different way. I don\\'t have a policy to specifically list off the top of my head, but this kind of emotional manipulation is used in politics. Pathos is absolutely abused across the media where they\\'re talking about conservatives, republicans, or socialists and democrats. We can see that the pathos of an argument is abused rather than simply taking the objectivity of the options here.': [1,\n",
       "   'wylywalker_round3']},\n",
       " {'I want to go ahead and move down to my contention number two, is that singular experiences manipulate the process. One of the things that we can see again in Western liberal democracy, is oftentimes we can, as the governments of Western liberal democracy, that bad decisions are made when emotions are high. We can see this time and time again throughout history. One of the examples that I\\'d like to bring up is countries in Europe accepting too many refugees. Now, I don\\'t want to say that we should be accepting refugees in. It\\'s simply that they look at a situation and they say, \"We want to help out.\" Then when emotions are high, they make the decision to open their border completely. An example of this is in Germany. There are certain districts of the country that there is massive cultural clash because the Western liberal mindset of most of the people that live in Germany is clashing with a foreign culture that they\\'re not experienced with. This isn\\'t to say that either culture is bad. It\\'s simply saying that the cultures are less compatible than what is ideal. It ends up becoming a massive problem because there\\'s lot of cultural clash. Even someone like Angela Merkel, who was for the Open Borders Policy, says that she regrets making the Open Borders Policy. Again, we can see here that singular experiences manipulate governments into making bad policy decisions.': [1,\n",
       "   'wylywalker_round3']},\n",
       " {\"Social justice benefits and how you know, as opposed to what a closing opposition has said, people don't often get to choose where they live. It's often instead caused by the long history of socio and economic practices often caused by racism that forced people to be segregated from one to one another. So therefore, by having this public housing and bringing people together, not based on their race or their ideology, but instead based on their common interests in these public housing, they're telling the socioeconomic and Fisk we're going to be able to have a successful integrate communities that for so long have been segregated due to economic factors.\": [1,\n",
       "   'ksbrown_round1']},\n",
       " {\"Furthermore, we've talked about the environmental benefits, which as a, thank you. As we have proven and will continue to prove are the most important part of public housing because the government has to be a driver when we talk about green housing and we talk about green energy and public housing has been proven to be one of the boat's effective forms of having there be a green society is when you look at the societies are most green and it's when there is a lot like societal change, societal cooperation together and this is mostly driven by the government.\": [1,\n",
       "   'ksbrown_round1']},\n",
       " {\"America itself if you want to look at America the whole homeownership market in America has been horrible for the environment. It's been horrible, as a whole. In fact, as my partner brought up this sort of like suburban sprawl is not, you know, this is not in fact what a closing opposition says, where it's gives you a sense of permanence that some of the communities instead of this very isolating is whatever. Even, you know, there's all these articles about how people become alienated from their neighbors. Due to this whole suburban nature where it's everything's very artificial, you know, McMansions rise up. People don't really care about their communities. They only care about, you know, the dollar value of their homes\": [1,\n",
       "   'ksbrown_round1']},\n",
       " {\"And what you're seeing is that instead caring about the like actual factors, I'd say, you know, maybe we should not have the sprawl and set up people live all close to the city where they're commuting instead of having, there be, you know, miles and miles of traffic because of the sprawl and miles and miles of cars and together, which you know, has caused there to be a like, public transportation, which is a very big green factor which causes there to be more emissions because people don't really care about living closer to communities because they're, you know, these social economic biases where they don't want to be near poverty and being there people on like themselves and say want to be people like themselves which is like created these excerpts and these suburbs that are not really communities but instead exclusionary factors.\": [1,\n",
       "   'ksbrown_round1']},\n",
       " {\"If we instead have there be public housing where a majority of the people having been incentivized by the high punitive taxes to not in fact go to a renter's market or, and not only homes that said go into public housing and they'll make you, you're going to see an ability to plan much more greener and more environmentally friendly housing. And you know, it's a lot easier to use. It's a lot more efficient or deficient for, you know, one large complex building and public housing for heat and for electricity. That is, you know, a whole suburb view that's been seen in degree studies.\": [1,\n",
       "   'ksbrown_round1']},\n",
       " {\"And furthermore, what this is going to do is prevent the predatory lending and the predatory mortgages that we've already seen happen previously, like in 2008 then because there's no longer going to be, you know, these greedy banks in these greedy landlords focusing on the dollar only. Instead we're having the federal government be a sort of guarantor of equality and of the benefits of housing given to the population. You know, basic opposition said that, you know, people know what's best for themselves. People know what's best when they're time about the whole market. You know, I like to point to a million the thousands of people who bought into places like Detroit and Newark back when it was, it seemed to be a booming place.\": [1,\n",
       "   'ksbrown_round1']},\n",
       " {\"Firstly, to go into my main substantive point about how we're punishing the large population for the actions of the few. Like I said before in my rebuttal, funding that could otherwise have gone to valuable healthcare and social programs is now being taken away on the basis of upholding an arbitrary principle like freedom of religion. Secondly, on our side of the house, we believe that the actions of the legislature often don't reflect the public opinion. My partner will demonstrate in his speech how exactly minority political parties can gain access to lower power to lawmaking power. But we believe that not always does the legislation reflect the opinion of the people in this actual city.\": [1,\n",
       "   'jmorgan_round5']},\n",
       " {'Thirdly, to go to my point about how the gateway for religious discrimination occurs, a case in point is Kim Davis. She denied a gay couple a wedding license due to the fact that she specifically identified as a Christian woman. However, we believe that on our side of the house, you are able to better help your constituents and better able to serve your people when you can differentiate that religious meeting from your actual job, which you were supposed to do. We believe that this also takes place when you consider religious doctors who refuse to give treatment to people such as abortion or birth control on the basis of religious values or with their other religious engagement. And we believe that people should be fired if they refuse to do their job on the basis of religious treatment because of the separation of you should keep everything categorized. You should keep everything separate. And we believe that again, the impacts of this of keeping everything separate you.': [1,\n",
       "   'jmorgan_round5']},\n",
       " {\"Thirdly, people of who have been discriminated against by certain religious groups may feel uncomfortable going to the government for help. Specifically, going back to LGBTQ plus individuals, being afraid of going to doctors or going to other government officials because they might feel afraid of being discriminated against or denied service due to these inherent religious beliefs. However, if we believe, on our side of the house, we're able to separate that religious affiliation, those religious ideals from doing your actual job, you can get:\": [1,\n",
       "   'jmorgan_round5']},\n",
       " {\"So what we say to this is first a little bit of modeling, what we think this actually looks like is much more stories, anecdotal evidence, et cetera, et cetera. Then the narrative that's being pushed out today, which is like more data, more objectivity is better for any policy. We think that this looks like a model of utilitarianism and this is exactly what opposition is going to have to contend with. But what we do say and in our first point is the influence of perspective on politics. We say humans are naturally subjective creatures. The opposition is going to tell you that this is naturally a bad thing. What we tell you is this is important in so far as we need perspective on politics. We say our limitation is vastly depending on your background, especially of what type of arguments you make, but also specifically how you feel about those arguments and how you feel about that political debate because we think that this extends beyond the realm of just numbers and how this affects you on the economic level or how does it affect you physically. But we think that it also has some emotional and mental value in what politics actually does to you. We think that your ethnicity, your social economic background and the community that you come from, et cetera and your geography that you come from are all important factors in how you argue and also the perspective that you bring to politics itself. Because we do think that on a national scale, national scope, for example, federal level politics does play a huge role differently on how money gets allocated or how the impacts go depending on the geographic geography, but also the individual like the ethnicity, the socioeconomic background you have in relation to the government who is actually making these policies itself, who's having these political debates.\": [1,\n",
       "   'vchaluv_round3']},\n",
       " {\"And I'll get into that more because we think that even in that point, we think it's important to have some sort of influence on these people. Because we don't think that first off, all of these people's subjective accounts can be taken out of the realm of these political debates. But even then we think that this pushes liberal policy more towards the fact that you're going to have people who are taking into consideration these subjective accounts and these people who have actually historically haven't had the voice in these political systems, but now with these subjective measures, these anecdotal evidence, they do have more of an effect on how the politics can be played out.\": [1,\n",
       "   'vchaluv_round3']},\n",
       " {\"But finally the effect of the real world. So what happens when you walk out of the debate? So even outside of the fact that if you get political change or novel, we do say, is that understanding the gravity of the situation or how it's being debated is just as important as understanding what the benefits and harms are. Because we say that the way you're being debated or the way that these communities are being talked about in the political realm is not currently how they want to be talked about. We think that you have much more ability for that community to actually change the political atmosphere and change how the political realm talks about them in so far as they are the ones who are having the narrative, having the ability to push out their subjective experiences, that they're able to have their anecdotal evidence actually used in this matter and understand the gravity of the situation. We say that finally, that the circle of empathy is essential for any political change. So we do say that, at the end of the day, the weighing mechanism you're going to be using, that the idea of the fact that even before we get any logos or we get any achievement or before we get any objective measure, what they have to understand is you have to care about the people that this is actually affecting in the first place. Because we say that the circle of empathy only relays to your friends, your family, and their closest people. However, what we hear is that from subjective experiences, you get more perspective and you get more of this idea of dignity and not impact. We think that's important in so far as you can understand other perspectives and you can increase your circle of empathy and understand why these people actually need objective impacts in the first place.\": [1,\n",
       "   'vchaluv_round3']},\n",
       " {\"We're going to talk to you broadly about the idea of how preferences are captured in a pluralus society. We say generally a norm against a emotion and a norm against lived experiences reinforced the political Why is this the case? If things are going very well for you, you have no reason to be upset. If you're rude and certainly if you're racial, ethnic or other religious minority group has not sort of been oppressed, you are very unlikely to have any need to explain in great detail and rely on your own experiences because you have nothing to go against you. When the status quo is working for you, you have new need to be emotional. Or on the other hand, if things are not going well for your group, because of massive oppressive institutions in your country, there's much more need to be emotional. I'll take you in a second, but why is this really important? Because we say people who are most at risk need the most to appeal and because they're going through the most visceral reaction, they have the most complex lives that can only be understood. No, thank you. Through the lens of their subjective own experiences. We say that hopefully the challenges to the status quo and challenges to erase the systems are always going to be more likely to take the form of emotional appeals because you're always going to be more emotional if the status quo is against you. \": [1,\n",
       "   'eslondon_round3']},\n",
       " {\"The problem is because the norm, generally whoever's going to be dominant in-group is always perceived as rational, these groups already have a blank card to use their emotional racism as much as possible. Because when they're being racist, or dealing with emotion, the norm excludes that because people say, oh, they're just being strong. People in a dominant group already have a blank check to be as racist as they want to the status quo because they're not being perceived as emotional. No thank you, it's also not your time. The only people who are perceived as emotional are the one who challenge it. Why is this important? Because this locks in Western status quo and countries and Western countries, it looks like the setting back of things like police reform because people who have the most to lose are always the ones who are in the most desperate situations. So they're seen as this. We're just why the American political compass is really, really okay of horrific things. Whereas that doesn't really happen in other countries, in weak democracies, this takes the place of truth. Minority groups demanding rights, being perceived as being a threat to stability of their fledgling political system. Because, even though their concerns are very be valid, because they've been gone lots of trauma and need to interject their own experiences for this trauma to make sense, they're going to be too emotional. This is why the U.S. and Western countries don't put pressure on terrible human rights abuses because they've perceived these minorities as being troublemakers and threats to order. Rather, as the group with an actual legitimate idea. This holds back the status quo altogether. Why does this agitate us to One, we don't rely on electoral victories. That hedges your bets on being able to get more people who like Hillary Clinton. Even if we don't get more minorities, we broadly shift the political spectrum and political discourse in a way that doesn't lock in the status quo against it. We affect all countries broadly without relying on winning elections.\": [1,\n",
       "   'eslondon_round3']},\n",
       " {\"Our argument is that even if you only send a couple of people to post-secondary universities, if you've got them technically trained, it's going to be unimaginably beneficial to the country as a whole.\": [4,\n",
       "   'amspector100_round2']},\n",
       " {\"Why is this the case? So basically, it's because you need technically trained people to build the infrastructure of the economy and high school is not enough. In high school, you don't learn to be an engineer, you don't learn to be an accountant, you don't learn to provide the kinds of services that companies rely on. So you need to actually go to get... You need to go to a vocational school or you need to go to college. You need to go to some kind of institution, which prepares you for this kind of work so that you can actually help develop the economy. What does this look like? So in places like Zimbabwe or Peru or China, it means that you need electricians to go and electrify the rural countryside, to build roads to villages that were otherwise inaccessible and literally do not have access to any kind of education so far to begin with.\": [4,\n",
       "   'amspector100_round2']},\n",
       " {\"In places like the United States for example, it means you have a lot of mid-skilled workers or... Actually particularly in the UK with examples of doctors and nurses. These are the core of the economy because people can't work, for example, if they're sick and there's no doctor to treat them or treatment is prohibitively expensive. So we think that if you have these kinds of mid-skilled workers, you are likely to an incredible amount of economic growth. It's the infrastructure by which the economy runs and ultimately, when these jobs come in, right, it's going to help everyone. If Google comes in and hires a bunch of electricians to build access to internet for people, they're going to need menial workers who don't have any education. And those are the people who are really trying to help.\": [4,\n",
       "   'amspector100_round2']},\n",
       " {'the last thing I want to say is that, why do you need to prioritize public education to get access to this? Our argument is that in a lot of countries, there are very few universities to begin with. That is to say, for example, in India their main source of education or post post-secondary education for the middle class is often something like the IGT system, which is almost entirely public, right?': [4,\n",
       "   'amspector100_round2']},\n",
       " {\"Even companies which need only mid-skill workers are unlikely to go in until the educational infrastructure is set up. Because I think it's just too much to ask for a company, to go into a country, take a 20 year investments in a university and wait and hope that talent comes out and it's much more likely to happen if the talent already exists. The company sees a market opportunity and they go and you see economic development. Why does this matter more than any of the other arguments we've made? First, we think this matters more than OGs arguments about inclusivity in the labor force because if there aren't enough jobs to begin with, then guess who's going to get... Feel the full brunt of unemployment, we think it's people like women who people are more reluctant to hire in the first place because they have implicit biases, because they have stereotypes against these groups working in the workplace.\": [4,\n",
       "   'amspector100_round2']},\n",
       " {\"I'll take just a few seconds, when one country in this block, if this block happened, and that's why we are aiming for.\": [4,\n",
       "   'maltarif_round4']},\n",
       " {\"First of all, Singapore is really well off in this block, that's the first thing. The second thing, I proved to you that the EU and the US will be helping them. So let's just forget about the [strong 00:04:35] point. Now, going back to the [iconic 00:04:37] stability and how the [iconic 00:04:39] stability will happen?\": [4,\n",
       "   'maltarif_round4']},\n",
       " {\"Moving on. And that's a new point, which is a combo integration of those countries and how this will help this spirit of them. In the EU, after the World War II, the OCU countries were afraid from Russia and the US, what did they do? \": [4,\n",
       "   'maltarif_round4']},\n",
       " {'Lastly, I would just finish with two points, which the first one connects to the economical argument, which is basically the anti-dumping of Chinese groups. They told us about that the exports of those countries, well, the exports of those countries are basically from the Chinese factories there. ': [4,\n",
       "   'maltarif_round4']},\n",
       " {'So, how would a currency in ASEAN work, and why is this going to be very critical': [4,\n",
       "   'junkim42_round4']},\n",
       " {\"So I would say there's a couple of points in my speech that I want to clarify. First is on the idea on backlash, finishing off on like the idea of states seceding, then weighing about things why do you think religious freedom is worth defending? I think they very much undervalue the presence of case that talks about why religious liberty specifically needed to be defended because they're so important. And that when you don't defend them on their side of the house, when they try to take this very narrow pigeonholed idea of we're just going to talk about advocacy of defending religious freedom, they lose out a lot of ground in this debate.\": [4,\n",
       "   '123dyly_round5']},\n",
       " {'So first on backlash. I think first that changing minds takes a long time over the timeframe that they want, that a response is necessary to defend these communities who need immediate attention. And even if there is backlash, recognize who is holding the cards at the end of the day, even though states have powers, the idea is that the federal government has things that the state is relying on and needs.': [4,\n",
       "   '123dyly_round5']},\n",
       " {\"Second is that a strong show of force in defense of religious minorities is the only thing that is going to normalize religious liberty as a principle, right? You need to go full 100% every time there's some kind of infringement because it means that side, they're more likely to get away with more religious liberties being taken away, but their more likely to enforce it unfairly and pick certain minorities that are quote unquote deserving of religious freedom.\": [4,\n",
       "   '123dyly_round5']},\n",
       " {\"But third is that social contact and expression and normalizing that expression is the only hope for changing minds into the future. If you continue to have the state that lives where you ban all religious expression, like in terms of like wearing burkas, wearing crucifixes in public, what that means is that you have no social contact on their side and if you do, it's in private settings. That ends up extremely negative because you still have to make it meaning to normalize these people in the public eye in order to actually have contact with these people. Then there's no way to actually find out some of those things about how people are actually part of the specific religions. I'll take\": [4,\n",
       "   '123dyly_round5']},\n",
       " {'And we think that often, housing is the main way that they can accumulate wealth, that is to say the mechanism for social mobility for the middle class is often through owning a house, seeing its property value go up over time and using that to, for example, take out a loan to start a business or send your kids to college.': [4,\n",
       "   'amspector100_round1']},\n",
       " {\"So second and most importantly, we think only the rich have the sophistication and time to evade these kinds of laws. I'll talk about that a little more in the future, but it means that ultimately the tax is likely, the brunt of the tax, is most likely to fall on the middle class. So with that said, I'm going to give two today.\": [4,\n",
       "   'amspector100_round1']},\n",
       " {\"So with that said, I'm going to give two today. First thing that happens is it reduces social mobility for the middle class, why this is particularly important. And second about how this kind of revenue, which comes from really wealthy individuals is likely to skew the incentives of urban governments towards promoting wealthy housing\": [4,\n",
       "   'amspector100_round1']},\n",
       " {\"but the last impact here is actually particularly important, which is that we think this prevents political capture across the entire country. Even if they say that the most important individuals are the individuals who can't afford houses in the status quo who are going to get access to the forms of social housing, we think that you help them the most on our side of the house because when you need in a functioning democracy is a large of wealth, a large shareholder in the nation, which is able to combat the political influence of the wealthy. That means that if you have a house, if you have accumulated your wealth, you're more likely to be able to donate to political campaigns.\": [4,\n",
       "   'amspector100_round1']},\n",
       " {\"first let's talk about social mobility and wealth accumulation. Housing is the best mechanism to accumulate wealth for the middle class and there are two reasons at least that they can't accumulate wealth easily through other financial assets. First, other financial assets are more volatile, requiring more time and sophistication.  But second, we also think that housing is the best form of wealth accumulation because it's more robust in the face of recession.\": [4,\n",
       "   'amspector100_round1']},\n",
       " {\"A little bit of weighing we would say that anger forces governments to create institutions to manage that anger. This is what comes out at the end of speech where he says that if you have a credible threat of people being angry and resorting to extra judicial means because their needs are not being met, that forces political systems to create institutions like courts that manage those conflicts in the long run. This is the most important issue in the route insofar as institutions resolve conflicts in the long run. So maybe emotional policies, let's take them at their best and say some emotional policies are created in the short run, but actually worse, they over-respond to subjective experience. But this is fine because in pluralistic societies we have a mechanism to negotiate those conflicts systematically between groups. So policies in the long run become more responsive because they're actually negotiating these conflicts. If you don't have a credible threat of anger, then elites are never incentivized to respond to the anger that exists in the majority, so these sort of angry things become prevalent in populous backlashes or extrajudicial means because they don't have a legitimate way of voicing their anger in the political system.\": [4,\n",
       "   'prestonj_round3']},\n",
       " {\"But even if this doesn't happen, we are still coming out on top, two reasons. Number one is that policy is less-elite centric. This definition, it means that more people are helped because public funds are sent to the public majority's as opposed to things like tax cuts because that's what elites think the facts say, is that the fact that we're going to help rich people by having this tax cut and because they preferentially weight those facts because that's what they think of objectivity is, it's elite-centric, that they're going to participate in those tax cuts more. Note that this also deals with OO, who says that sometimes subjective policy is harmful. We would also say that we mitigated this with the dog whistle analysis with regards to the racism stuff, but elite-centric policies always means that you help fewer people If we help more people with majoritarian policies, then we're helping more people definitionally. Second is we're likely to create strong law that can be reformed, so even if you get some bad laws in the short term, we're likely to reform these things in the long run.\": [4,\n",
       "   'prestonj_round3']},\n",
       " {\"First of all, is that we want to give people as much choice as they can, be insofar as these people freely choose what they can wear. It's not through that they're being put into an oppressive social relation. But second of all, we all have states in this, right? Insofar as if you have one religious group of being discriminated against at one time, you actually don't know what the discrimination is going to be 10, 20 years from now, insofar as government coalitions shift, individual prejudices shift. So if you justify it in the short term by saying, ah, maybe this group is more oppressive towards women, well then you set a precedent that 20 years from now that different group is going to be empowered and oppressed in a different way.\": [4,\n",
       "   'prestonj_round5']},\n",
       " {\"Second thing we want to talk about is why the mechanism is uniquely good, why it's likely to be effective. So first of all, as I think op is going to agree to, this is a gigantic sum of funds. It's very unlikely that States are going to go against this insofar as their entire state economies in many instances are based in federal subsidies. Think about Iowa in terms of their other farm subsidies. We literally don't have the economy if the government, if the federal government doesn't intervene. But more specifically, we'll go further and tell you why the federal government uniquely is situated to do this.\": [4,\n",
       "   'prestonj_round5']},\n",
       " {\"Number one is that it's impartial in a way state governments are not. So there's no particular ties to a certain ethnic group most of the time because they're heterogeneous across the entirety of the country. This especially matters in places with hot ethnic tensions and regional conflicts, so a country like Mexico for example, where there's a lot of state tension. It's very important that in Mexico specifically there is an individual regional government making decisions about ethnic and religious liberty and rather as the federal government which is agglomerated across all of these interests, they're a lot more likely to be protected in the general case.\": [4,\n",
       "   'prestonj_round5']},\n",
       " {\"Second, is that federal governments are directly bound to constitutions in a way that state governments are not. These constitutions, in most instances explicitly instantiate the right to religious liberty, but many state constitutions are not binding in the same way, or governments can just ignore them with more impunity. It's very important that we adhere to the federal constitution and liberal democracies, which protect religious liberties. But third, we'd say courts aren't as effective, so alternate mechanisms of enforcement aren't as effective. First of all, there's massive resource constraints, there's a huge time delay, regional problems insofar as court systems differ across States, so it's not clear that you actually establish a longterm precedent. We can also say that these mechanisms are also probably downstream of our policies so courts are more likely to be protective of religious liberty if that's the overall government policy.\": [4,\n",
       "   'prestonj_round5']},\n",
       " {\"So first, why is this principally justified? We think that outward facing signs of the religiosity are critical to the functioning of the religion itself. That is to say that religious dress is extremely important to the individual expression of that religion. You can't separate the two. Religious signifiers are important for not just marking who's within the group, but also as an individual expression of identity, that I belong to that group in a way that other people do not.\": [4,\n",
       "   'prestonj_round5']},\n",
       " {\"Next, I want to talk about the benefits that we get from this. We would think that you get day-to-day improvements in your life. So you just received less interpersonal discrimination because people ar-, because the state has not discriminated against you, you're less likely to be denied a job because you have a certain outward-facing religious characteristic. You can wear the clothing that you want to wear. You can participate in religious holidays without fear that the government is going to crack down on you because you don't adhere to a certain model of what they think religion is. We also think that there's a gigantic downstream norm effect from the federal government. Think about Obergefell in terms of the Supreme court in 2015, it's setting the precedent that gay marriage is legal. After that we saw huge shifts in public opinion about norms in terms of how you interpersonally treat people who are gay.\": [4,\n",
       "   'prestonj_round5']},\n",
       " {\"First on how this is just for veterans. We think it's a legitimate choice to want to own houses and to choose to do so for three reasons. First, for social prospects. I think this is one, beneficial for the individual and then two, beneficial for the community.\": [4,\n",
       "   'gabbishilcusky_round1']},\n",
       " {\"I think it's beneficial for an individual because owning a piece of land gives you a unique We think that when you are renting it is likely that you may have to move out of that house in a couple of years or you may move out of that apartment in a couple of years because the rent changes.\": [4,\n",
       "   'gabbishilcusky_round1']},\n",
       " {\"We also think that when you're not attaching a long term investment, as you are for a house you expect to own through the years, you generally feel less of a tie to the apartment your in or the community.\": [4,\n",
       "   'gabbishilcusky_round1']},\n",
       " {\"We think this is bad because you generally have less security and you feel less safe. We also think that this is a legitimate choice made socially because it's good for the community. We generally think that you feel a closer tie because you have this long term lease in the community. We think this is good because it causes you to want your community to be safer, causes you to entrap more into that universe.\": [4,\n",
       "   'gabbishilcusky_round1']},\n",
       " {\"Recognize that ownership is attached So there's a positive correlation ownership and native correlation with So when that price rises, as a renter your then still paying more money increasingly.\": [4,\n",
       "   'gabbishilcusky_round1']},\n",
       " {\"However, when price rises and you're a home owner, your benefiting because your mortgage stays the same, so you're saving money and more money and your investment is generally better.\": [4,\n",
       "   'gabbishilcusky_round1']},\n",
       " {'Second point I want to advance forward is on the economy. So recognize that given the reasons we say that home ownership is justified, many people are still going to want to buy a home. We think that for amount of people they are still going to be able to buy a home because they can afford, they can afford taxes that sets up.': [4,\n",
       "   'gabbishilcusky_round1']},\n",
       " {\"Secondly, I think you still see people wanting to buy, given the reasons that we outlined. I think that middle model, I think that it's probably but is it flat, or is it proportional to housing?\": [4,\n",
       "   'gabbishilcusky_round1']},\n",
       " {\"So not only is the economy because you can't actively pay your mortgage, but there's that trickle down effects of you no longer investing into the economy at the same rate that you were before.\": [4,\n",
       "   'gabbishilcusky_round1']},\n",
       " {\"We need to develop this and get this, because one, you have more turnover in apartments because you don't have these responsible ties. And then, two, because we grow bigger ties, giving more rent. Secondly, we think it's a legitimate choice because ... So, we say that like most areas, if you want any control over things like how your community chooses to act, what fees you have to pay, you need to actually open your home in a right to have a say in the homeowner association.\": [4,\n",
       "   'gabbishilcusky_round1']},\n",
       " {\"Yeah, so given this I think you see more people are still buying homes, but can't actually afford them. I think this causes things like mortgage default and mortgage So those people are stuck in a rate they can no longer afford. They're still paying money on this, which ruins their credit and has longterm effects on the economy as a whole.\": [4,\n",
       "   'gabbishilcusky_round1']},\n",
       " {\"We think it's better to have investment in early childhood educations for a few reasons. So first there's systemic inequalities that we think are better solved through investing in early childhood education. We think there's a cycle of discrimination where parents don't have knowledge for whatever reason, but they are able to pass down to their kids that you are... better able to fix with early childhood education.\": [5,\n",
       "   'jbotkin1_round2']},\n",
       " {\"We think this just doesn't invest itself with minority but also just unequal income, or first generation parents that don't necessarily have the knowledge to give their kids that maybe higher off or... income schools do. We also think that there's fundamentally discrimination because school districts are unequal. We think teachers are poorer quality in the developing world. Sometimes there's high rates of absenteeism in low income areas. We think that this means teachers tend to focus on the good kids because they have limited resources.\": [5,\n",
       "   'jbotkin1_round2']},\n",
       " {\"When kids are prepared, they're probably better off when they're from higher income backgrounds and then succeed when in the school system. But when you have early childhood education, we think kids come into school prepared and this makes it easier to teachers because now instead of trying to focus on a very wide range of students in schools, they're able to teach to the middle, which means there's fundamentally less catch up in classrooms and you are increasing and lessening inequality for all come into school at the same playing field in primary education are able to succeed in the future. So given that we've proven to you there's a cycle of discrimination, why does early childhood education best address the root issue?\": [5,\n",
       "   'jbotkin1_round2']},\n",
       " {\"We think firstly that by college often times it's too late to actually manifest this change. We think that even in the best case scenario that anyone who was to go to college that can, there are limited numbers of college spots or postsecondary education spots and it's not an option for everyone. We also think that you can't access postsecondary education if you've never built up those skills in the first place because your parents didn't read to you when you were two years old and you never built up those literary skills, and that vocabulary that you needed. And it ends up benefiting those rich kids who are well off, when you invest in post secondary education, because those poor kids never had the educational in the first place because their parents didn't know about it.\": [5,\n",
       "   'jbotkin1_round2']},\n",
       " {\"So even if you do have access to college, it's too late and there's limited numbers and also when it looks prohibitively expensive, even if we make it cheaper, the perception that makes it look expensive means people don't consider it as an option. Universal early education on the other hand we think is really good. We think it reduces inequality between both We tell you that with post secondary education only those are able to access it in the first place are able to get the benefits versus early access to education. We think most people across the board are going to want to benefit from it and it means everyone gets a chance. We think... We really value the of equality because it does things like level the playing field and we also think it leads to better longterm outcomes.\": [5,\n",
       "   'jbotkin1_round2']},\n",
       " {\"We also think this is really important in places like developing countries a little bit. We think that in school systems early on, especially in developing countries, sometimes you don't have that postsecondary access to education actually built in the system. So when you have students that are starting in the system, for instance getting used to going to a doctor and doing stuff like that because parents see there's low barriers to entry, they get into the norm of doing it which builds good skills later for life and that's allowed people to access the health benefits that I've already spoken about.\": [5,\n",
       "   'jbotkin1_round2']},\n",
       " {\"We also think it means kids are more likely to stay in school and are less likely to drop out when they've been used to the educational system at an early age. We think in developing countries a lot of times you just don't have the postsecondary infrastructure not built... you might not have the college to access the amount of people? And we think it costs much less per student who'd be able to... make kindergarten for a lot of people and increase primary school access or give access to doctors for kids ages zero to five rather than trying to do it for a limited number of people when it's going to cost more per capita per student. So the investment really is going to benefit everyone, especially if you have limited resources, and it actually makes a bigger difference in people's lives and you're actually spending less money doing it, which means you get to access more people.\": [5,\n",
       "   'jbotkin1_round2']},\n",
       " {\"We think this manifests itself when you are able to provide access to early education. Then now you have parents that maybe would be out of the workforce, are now able to work. Which means you see the creation of more jobs, especially for pink collar jobs that are more likely to be inhabited by women. You also see greater equality for women, since the roles are not typically defined by healthcare since... childcare, since you are providing access to childcare and the cost is not prohibitively expensive for families. We think this manifests itself and it gives them more equality. But also the idea of community growth and education because the norm that is valued in the community, often times when it is not value before in the same way. And you also don't see issues that you see a developing country of parents picking one kid, oftentimes the male students, to invest the education in versus when it... access is free or low cost. They are more likely to try to invest in all children across the board.\": [5,\n",
       "   'jbotkin1_round2']},\n",
       " {\"In development, we think in the first five years of life it's really important for kids to have access to nutritional guidance or medical care. We think this does things, especially in a developing country, like reduce infant mortality rates and give everyone a chance to live. But do we think this is something fundamentally important? We think it also makes kids happier and sets them up for longterm health goals. If someone is giving you a class in college about why you should eat healthy, it really doesn't matter if you've been drinking soda your entire life because you never had access to pediatric care or were missing vaccinations, things like that.\": [5,\n",
       "   'jbotkin1_round2']},\n",
       " {\"Parents don't have knowledge because sometimes they need to work. They might've never had the education in the first place about how to pass these things. We think this manifests itself when parents do things like don't read to their kids because they don't have the time because they were trying to work, and this results in kids that don't have those fundamental skills built when... even when they start in school. There are statistics that show if you're reading levels behind by third grade, your chances of graduating high school are really bad. We also think there's a financial barrier when parents are in low wage jobs and really need to work hour to hour, they're probably working longer hours, and they think secondary education looks very costly and prohibitive, and they think that they don't have the time to invest the right financial resources in their kids.\": [5,\n",
       "   'jbotkin1_round2']},\n",
       " {\"So going into [Aneesh's 00:01:50] first point, because you're losing a lack of access to federal resources, right? I think you have to acknowledge what we're talking about in this debate, it's not any employee that's in these provinces or states. This is only federal employees. These are people that are working at the state or governmental level that are doing this. So we're saying, when you do this now, you're losing huge programs like teachers for public schools that are already a huge issue, police to actually go in. It's already hard enough to get police in a lot of areas, especially very crime-ly areas, and now you don't have better resources for police to do a better job in these areas. You're losing welfare programs and Planned Parenthood\": [2,\n",
       "   'mnjanse_round5']},\n",
       " {\"We think that that leads into, then, his second point, of you're subject to more violence, because here's the thing. If I'm a person who is not a religious minority, but maybe I am still a single parent, and I have to go through welfare programs to support my family, and now my welfare program has been cut because we lost our federal funding because of religious minorities, who am I going to put the blame on? We think the problem then, is that religious minorities become the scapegoat to a lot of people being really upset that they've now lost their federal funding. We think that increases the discrimination that [Aneesh 00:03:14] tells you towards religious minority groups.\": [2,\n",
       "   'mnjanse_round5']},\n",
       " {\"So at the end of the day, when we have to look at this, we have to weigh two sorts of things. One, we have to weigh, who is this really hurting, and how can we best protect them? I think it is fair, [Aneesh 00:06:05] and I definitely agree that this is a problem, but what we're saying is this is not the right mechanism to solve that problem. I think that there are much better alternatives, that we'd be willing to discuss and think about, that would best protect all groups of minorities.\": [2,\n",
       "   'mnjanse_round5']},\n",
       " {\"What I mean by that, to clarify, is that right now, when you have mass amounts of federal funding in an area, even if you're in a state like Mississippi or Alabama where they're trying to take away some rights, because you have mass amounts of federal funding coming in, they're still going to certain places. The difference now is, if you're getting no federal funding, any sort of funding they have, now they're going to prioritize towards what they can when you have limited funds. So, if I'm a Conservative state, and now I have limited funds from private sectors or whatever the money's going to come from, now I have to prioritize it towards what I want. And if these are Conservative states, they're not going to go to things like welfare. They're not going to go to things like Planned Parenthood. They might go to more Conservative agenda-esque things right?\": [2,\n",
       "   'mnjanse_round5']},\n",
       " {\"But even on top of that. Like I just told you in my intro, it's more than just Merry Christmas and those are what Diego says extrapolate into being more and more important microaggressions that become even worse to the point where you now have double standards in terms of whether you give people a job or not. In any case, what we say is broadly speaking in the places we're talking about. This will be outweighed by the more religious and ethnic aggressions that could become more and more violent in even places like India.\": [2,\n",
       "   'agupta21_round5']},\n",
       " {\"The second thing that we tell you, more importantly, is we're dealing with these non-legally codified violations. That's the analysis that Diego gave you in the second minute of his speech as well as what I just sort of gave to you on closing opposition's first extension.\": [2,\n",
       "   'agupta21_round5']},\n",
       " {\"And then third, what Diego tells you towards the end of his speech, what happens when the courts break down? We're still able to cut the funding and we can still process this accordingly.\": [2,\n",
       "   'agupta21_round5']},\n",
       " {'First of all, better allocation of resources turns to the fact that you get a lot of societal benefits. This looks like awesome things that help children in need.': [2,\n",
       "   'ejones_round2']},\n",
       " {\"But critically, I think it's really obvious that on both sides of the house the most important actor is marginalized people. Which kids will be fine, rolled will get the support in their childhood, and probably the rest of their life, that's what it's about.\": [2,\n",
       "   'ejones_round2']},\n",
       " {\"But school specifically teaches you sort of ways as a trades-person to adapt to those changes, and that's a skill you can use whether an economy that's changing. The whole point of post-secondary education, is to help give you the kinds of skills so you can be a flexible and adaptable person in the workplace and actually, through one of those changes that possibly can.\": [2,\n",
       "   'ejones_round2']},\n",
       " {\"That's how you change the narratives they say are so problematic on the other side of the house. While you take down all the social barriers, and say this is the place people should go. Critically here, more financially accessible universities generally means more people go into those universities, right? A more diverse student population.\": [2,\n",
       "   'ejones_round2']},\n",
       " {\"See what actually offset a ton of the arms in government post-secondary by giving funding, first of all, to things like to those kinds of services, which you can't have with your limited funding for those institutions, and by making it a wider population that is able to access these places you force institutions to serve that wider population, making institutions more accessible.\": [2,\n",
       "   'ejones_round2']},\n",
       " {\"Why is it so important, especially on the comparative, with their world. No matter how successful your childhood is, you cannot move past a secondary-school, a high school education, because it's financially primitive, and that means you will be trapped in the cycle of poverty. There's literally nowhere for you to go in the age of automation if you can't move vertically, because you no longer can move to another low skill job. That's critical.\": [2,\n",
       "   'ejones_round2']},\n",
       " {\"And also, unlike early health and education, where there are some sort of options you had in terms of parental support, your neighbors, things that can exist to supplement those problems, even if they don't fix them all. Access to post-secondary is literally your replacement. There's nowhere else you can get the credentials you need to have the opportunities that are so essential in this economy to actually survive as a marginalized person, that's critical.\": [2,\n",
       "   'ejones_round2']},\n",
       " {\"Then these places, these post-secondary institutions also adapt to serve the needs of those people. That's why you see an increase of things like student accessibility services, things like universities actually adapting to the needs of the more diverse student population who have learning disabilities, or other needs that weren't always reflected in the more privileged population which used to be the majority of people going into post-secondary.\": [2,\n",
       "   'ejones_round2']},\n",
       " {\"Why is it so important for marginalized people? First of all, it's just really clear that you need post-secondary to be accessible so that marginalized people can have access to that class of mobility. That's really, really important. But also needs to be that can seem, they can see that they can aspire to. This is something that actually works them towards the thing that they know. You aren't just going to graduate high school and then get screwed because there's nothing you can afford to do after that. There's actually an option available to you, which is going to post-secondary, right? That's important.\": [2,\n",
       "   'ejones_round2']},\n",
       " {\"Critically we tell you, to give people the best chance of actually elevating most marginalized in their communities, because we give them actual class mobility. There's actually a pathway for them to follow to escape the kind of cycles that they're in. Let's reiterate how this works.\": [2,\n",
       "   'ejones_round2']},\n",
       " {\"Things like better doctors, better teachers, people who've accessed this kind of education that makes them able to improve these communities. We also tell you on this point that we have a better chance of increasing the available resources in the future. So clearly the problem we have to make a choice. The better worlds, well we don't have to make this choice at all, right? So having the bigger, wealthier tax base, which is generally more educated, also helps us avoid being in a situation at all in the future. That's really good.\": [2,\n",
       "   'ejones_round2']},\n",
       " {\"First of all, it's important to understand why post-secondary education is so necessary in that So closing government choices will undermine the value of things like trade schools and vocational schools. But one of the things is cool about that is they also it's only the fact that automation is coming.\": [2,\n",
       "   'ejones_round2']},\n",
       " {\"First, because it's harder to sell these multi-family homes because there is now this higher price. There's also just considering they'll probably take on some of the taxes, it's just getting more expensive. They won't get as much money for that because there is now a disincentive to keep investing in selling these single family homes. This is why they will now move on to building these multi-family homes because they can get a lot bigger of a profit off them\": [2,\n",
       "   'mstonem_round1']},\n",
       " {\"Now let's talk about how, when they are wanting to develop more because they're having trouble selling these original houses, they're going to be building multi-family homes. First, because like Chris said, it's just more cost effective to build one house that can be sold, to getting rented to multiple people. Second, there's public pressure from the government who is trying to solve the housing crisis. And third, because like they said, they're going to be concerned about this tax if it's true, that if this counts personal housing because we don't know if that's true. But if that's true and if they live in that, then they would rather be able to use the same amount of land to get multiple payouts from multiple people renting and therefore, they'll likely want to build the multi-family homes which solves their issue on raising rent as well as it increases our link for why we are likely to get multi-family homes in the future.\": [2,\n",
       "   'mstonem_round1']},\n",
       " {\"And fourth, like Chris told you, there's just under-supply. There's an oversupply of these huge multi-family homes that they are talking about because it is so easy to get that huge one time payout. But there's under-supply of multi-family affordable housing and that is the market that they will go to once there is more incentive for it\": [2,\n",
       "   'mstonem_round1']},\n",
       " {\"Next, let's get into the economics of it and how we are increasing housing availability for the people who are the least well off in this debate. First, we'll talk about why people tend to build more homes\": [2,\n",
       "   'mstonem_round1']},\n",
       " {'On sovereignty, two points under this. Firstly, we tell you that these countries within Aussian fundamentally have the right to determine their own inner workings of their government system': [2,\n",
       "   'dfang8_round4']},\n",
       " {'But secondly, we tell you that the impact of this argument is necessarily a decreased economic efficiency in their role. ': [2,\n",
       "   'dfang8_round4']},\n",
       " {'But secondly, and more importantly, on the practical argument of decreasing political collaborations. Two points under this. Firstly, in terms of politics and secondly, in terms of economics.': [2,\n",
       "   'dfang8_round4']},\n",
       " {'So secondly, onto the point about economic development. ': [2,\n",
       "   'dfang8_round4']},\n",
       " {'So firstly, we want to tell you how we live in an interconnected world': [2,\n",
       "   'dfang8_round4']},\n",
       " {'That\\'s why we think it\\'s more likely that anger is going to be co-opted by elites, rather than it\\'s going to be used by activists, which is a reason why we should prefer objective approaches to policy, such as data that thousands of people have experienced these things rather than, \"I am angry because I have experienced this.\" We think that the methodologic difference between those two things means that it\\'s more likely that people with agenda setting power will take advantage of emotions and use it as a means to discredit people. The second reason why we think that it\\'s more likely that elites will co-opt anger than activists will use anger to mobilize it is that there\\'s a bunch of examples out there and ones that we have given you about how in the past, subjectivity has been used to discredit valid and good positions. For example, climate change deniers look at the same facts as everyone else, but then manipulate those facts into the interest of the elite, which are oil corporations with large money and a lot of agenda setting power. We think that\\'s an example of how subjectivity is used to create terrible political and it\\'s been mobilized by elites. The flip side of this is that even when there\\'s a group of people who are super angry but don\\'t have any direction to direct their anger in. People like Trump or populists are able to take that anger and direct it towards a terrible cause like the immigrants from this country. The last example that I\\'ll bring up is how British colonizers in India created the modern day cast system by turning people against each other in order to create conflict between classes. This is an example of how subjective experiences were mobilized to benefit the interest of the elite, which is why we think that objectivity is better. Now, the last comparative between the probability of elites co-opting anger and the probability of activists using anger to mobilize is this that, if it\\'s the case that elites are going to discredit activist movements, we think that it\\'s better for activist movements to change their strategies, rather than just to feed into what elites want them to do.': [2,\n",
       "   'meganwu_round3']},\n",
       " {\"So first on the extension of our definition of objectivity. We think that objectivity means connecting subjective experiences together. We think that every experience is necessarily subjective, because only one person cannot experience someone else's life. So every experience is subjective. But what it means for something to be objective is if many people have experienced the same phenomenon. So for example, even if my experience of of police being racist to me is a subjective experience, if millions of other people have experienced the same thing, then we can think police brutality is an objective phenomenon in America. So that's what objectivity means for us. So then that definition sort of takes up all these arguments made in the GW about how their responses to for example. They say that people like MLK were portrayed as crazy. We think that even if there's some strategization of MLK as being crazy or too violent, we think that the fact that the millions of black people or white people banded together and supported MLK, that proves that MLK's movement was actually an objective movement, which means that their responses do not apply or do interact with others.\": [2,\n",
       "   'meganwu_round3']},\n",
       " {\"First, the disincentive to discriminate. First of all, why is this a powerful disincentive? First of all, recognize that even if they are not in that recipient of government money, right? Even if these provinces and States are in that recipient, which we think they generally are, because that's generally how federal taxation works. They are so intertwined with their programs and their systems with federal government funding, that ultimately if you were to take that away, there would be massive economic harm to that particular state. Right? This looks like in Quebec, them relying on government money for their healthcare in large part as well as using provincial funds. Right? It looks like having education funding or federal rents come down a Right? Same thing is true with various states. They need federal money for like things like Medicare expansion if they have that. They need it for various other programs that they run for an education.\": [2,\n",
       "   'noahmacdonald_round5']},\n",
       " {\"We think that particularly the lower incidents rates of people are trying to implement these policies, Even when they are unsuccessful, leads them to feel more welcomed in society because nope, it doesn't need to be a successful burka ban, for there to be lots of news coverage about that, for there to be lots of feelings of alienation, right? All that you need to know is that the government in power to hates your guts in order for you to feel alienated. We think that when they stop trying to implement these policies and they focus on other ones instead, because it's too, sort of like politically costly, you think you're going to feel more welcome in that society. Okay. Final notion on signaling effect before I move onto the third contention, which is the idea of like radicalization welcome, right? We think that radicalization primarily occurs in these minority communities when they are rejected entirely from a society where they're not integrated.\": [2,\n",
       "   'noahmacdonald_round5']},\n",
       " {\"We think this is why hate crimes for example, go up substantially when you have all this discourse, about how much do you dislike immigrants with these policies. Even if they're shut down or in the news blogs? We think that by putting a strong deterrent effect on it, we mitigate down the quantity of discourse we have around these like policies, like burka bands, and by just not discussing them at all. We think we decrease the number of hate crimes because people are less cognizant of their hatred for people wearing burka's, because recognize there's nothing intrinsically offensive about wearing a burka. It's only offensive if you ask a super conservative individual are stoked to feel offended by it by politicians who want your votes.\": [2,\n",
       "   'noahmacdonald_round5']},\n",
       " {\"We think that there's a trade off with regards to long longterm success and readiness as a result of the positive feedback loop, and created by setting people up for better success in the future when they are children. And we think that the burdens that exist on parents that are then compounded when we throw in taking care of children without a great deal of early childhood care assistance, means that there is a significant trade off here. It is trading off between assisting people who are already practically adults, we would say, in going into post-secondary education, at that time when they are adults, versus the trade out of supporting people who are adults, but at that time may have to take care of their own parents, have to work their own jobs, and potentially work on career advancement if they are trying to make a better life for their own children, and have to, on top of that, then take care of their own children.\": [2,\n",
       "   'srao3_round2']},\n",
       " {\"We think that with regards to the relationship between whether or not having significant funding for post-secondary education as a prerequisite for doing early childcare, we would say, first of all, that we don't scrap post-secondary education funding. We don't think that it's the case, that in this world, now, there are no trade schools. Or if there are trade schools, they are solely private and nobody can afford them. Or that there are no community colleges. We simply have changed the funding priority. We also think that it's the case that employable people sort of fill these gaps in employment that they say don't exist, in order to fulfill the needs of early childhood care because of the lack of post-secondary education. It's precisely why that in order to have these benefits, we need the greater funding, in order to incentivize these people. Rather to flee the country, rather to go somewhere else, but rather to stay because there's a financial incentive to be a early childhood care physician, or psychologist, et cetera, or an educator in an existing country due to the priority given to this by the government in terms of funding. We think that creating this kind of financial incentive means that we solve for harm of lack of employability in these positions, that might be caused by an absence of post-secondary education, but also that post-secondary education at least the absence is mitigated by the fact that we aren't scrapping this entirely, and then just pressing to a sufficient degree that we can make up for in the long run the absence of having tons of early childhood care psychologist such that this becomes a lower cost in the longterm and we are able perhaps to shift priority later or to maintaining this priority but do so even greater effectiveness, creating even less educational inequity in the longterm because of the educational inequities that, as my partner tells us, start very early in childhood and therefore need to be resolved at that time.\": [2,\n",
       "   'srao3_round2']},\n",
       " {'We also think that with regards to this sort of cycle of not pursuing post-secondary education whatsoever, the only side government actually solves for this In order to break the cycle of not going to college, which, side- off, the student tells us is predicated on this idea, \"if my parents had not gone to college, I may not have gone to college.\" We think that it\\'s the case that parents who are overburdened by childcare are unable to create the kind of conditions necessary to allow their own children to go to college, to create an environment for their children to attend school because it\\'s more likely for it to be the case that due to subsidize the childcare costs that they have to incur, that may have forced them to work less, to force, in many countries, mothers to remain in the home rather than to continue working to perhaps make it such that their children have to, rather than pursuing post secondary education, take care of their own parents starting from a much younger age because their own parents were unable to advance their own careers or just save up enough money to allow them to be secure so that their children could pursue their own lives which we get by alleviating the burden of parents when they need to take care of their children at a young age. That this is our link to the kind of intergenerational mobility that side opposition possible.': [2,\n",
       "   'srao3_round2']},\n",
       " {'stay more shockingly and remain in the people\\'s mind. I think this places the unfair magnifier of these harms of these political policies\\nWhat are the harms? Threefold. Firstly, we think that this makes a loud minority deceive the majority into voting against their own interest. What government side has to support, in this case, is Trump and his fear-mongering strategy to get the majority of the population to vote against their own interest. It\\'s things like emotionalized experiences of crime and violence that take the status of Mexican immigrants out of context and say, \"This is what they are doing.\" And when people talk about personal experiences of having a crime done to them by a Mexican immigrant, that does not mean that that is a generalized truth in America in today\\'s world, right? But it emotionally moves certain people who directly perceive this as a generalized situation. We think that this deceives the majority into voting for policies that are not right for them. Notice the bias here. Positive emotions are far less effective in the political sphere than negative emotions. At the point in which personal experiences directly focus on negative aspects of certain immigrant populations or certain minorities, we think that this disproportionately harms them, to the exclusion of others. We think that it\\'s very hard to compare different personal experiences. That\\'s why voters can\\'t make an objective account in this case. The second harm that comes from personal experiences in political debate is that this pushes politicians to the extremes. That\\'s to say when emotions and personal experiences dominate political debate, every politician is forced to engage in that. Why? Firstly, just a large perception that this is somehow more powerful and persuasive to the public. But second, they want to avoid sounding really cold and calculating, at the point to which other politicians are talking about very personal stories, where you\\'re talking about numbers. Why is it incredibly bad? Firstly, you lose the opportunity to genuinely inform the politics and what policies each candidate stands for. Notice that publicized and televised political debates or other unique opportunities to actually inform the public on political issues and get them to be informed voters when they actually do elections. You lose this opportunity at the point in which you focus more on personal accounts and subjectivity, rather than actual facts and what policies each candidate stands for.': [2,\n",
       "   'andrewyun7_round3']},\n",
       " {\"But secondly, some policies get talked about disproportionately more at the point in which personal experiences are a bigger part of those specific policies, like immigration or healthcare policies. Whereas you don't talk about other experiences that are removed from personal experiences, like foreign policy issues, because you're not likely to, as a person, resonate with those policies as a whole. Therefore, you get a disproportionate sway to one side of policies that get talked about.\": [2,\n",
       "   'andrewyun7_round3']},\n",
       " {\"The last thing I want to say under this argument is that politicians are less likely to translate their promises into policy at the point in which political debate focuses more on personal accounts. Why is this so? Firstly, you focus more on the problem, rather than actionable solutions, at the point in which personal experiences largely serve to identify what the problem is in society. But secondly, you get less tied down by campaign promises, at the point in which publicized debates are focused less on making campaign promises and promising to the public, rather than just focusing on personal accounts and subjective issues that serve to try to move the public emotionally. Secondly, I'm going to talk about how this harms social groups that are involved. Firstly, I think you prompt the opposition parties to attack your experiences directly, rather than the policies that you stand for. There is a difference between attacking objective political preferences that you have and attacking painful experiences that are very integral to who you are. If you're a woman in the workforce who suffered from workplace discrimination or an immigrant who is refused service because of your race and your opposition party in these political debates say that your experiences are illegitimate or not what is largely true about the world, we think that that harms you personally. But secondly, an impact of that is you socially divide the populace even more, at the point in which the experiences that you as a member of a particular social group are more likely to have become politicized in and of themselves. Your party allegiance is directly tied to who you are and your identity, and that's more likely to segregate the voting population into different social groups who think that's terrible for the political atmosphere in the long term.\": [2,\n",
       "   'andrewyun7_round3']},\n",
       " {'So the rebuilding and I hope closing opposition understands their case a little more because it seems like they don\\'t by those POIs. Why is objectivity alive? Why these weaponizing counter narratives not the biggest issue that we\\'re facing? Because first, I think that normative policy over increasing statistics is going to become a new norm. Notably a lot of policy is made by the rich and wealthy and racial majorities. Meaning, if they are able to just keep using those statistics, keep saying, \"Let\\'s increase our efficiency from 30% to 35%,\" and that is the only angle in which they\\'re trying to achieve, this is particularly harmful because they\\'re easily able to ignore all the minority populations that are also affected by these policies. What changes our government? We think that there was no statistic ever to suggest that having minority liberation and integrating a more inclusive workspace and having more inclusive hiring practices at all ever suggested that we\\'ve increased efficiency. In a world of objectivity, that would never be a play, but when individuals are able to talk out and say, I think inclusivity is important. My lived experiences of being marginalized have been very harmful for me to get into the workplace, then I think then policy is going to change in a different way in which we no longer care about increasing efficiency. We are now turning towards a world in which we ought believe it should be. Statistics can\\'t tell us how we should go about that number. If we just try to increase efficiency, but using lived experiences allows us to contextualize what world we want to live in, not just how do we increase efficiency. I think that is incredibly important. This is why stories help the contextualization of our messages. This is why the minority populations are already... Blocked out from political discourse and this is the best ways in which they are able to engage with policy that directly and mostly affects them.': [2,\n",
       "   'junkim42_round3']},\n",
       " {'To the first contention is brain development. These formative years, zero to five scientifically show that this is when children gain literacy and awareness, both socially and academically. Those are both very important. We will get into those how they differ and how they\\'re both necessary. Studies actually show a lot of universities have researched that these years are way more formative and lead to greater success, when kids have an education that\\'s stronger in years zero to five than later. A lot of people have done studies about it actually. You can look it up. Why is this? Why, why? I could just say for the years that studies are showing, but why don\\'t aren\\'t they showing, because they develop social groups. Imagine you\\'re an only child and your parents. You\\'re an only child so you don\\'t have other kids to be around and play with. You\\'re growing up and you don\\'t really know. When you\\'re going to this earlier education socially, this is where you gain your social footing. So you learn how to share, how to be respectful, how to care for others, what a friend is. Because at home if you\\'re not having this education, what are you supposed to do? These things carry on the rest of your lives. The higher education gets more specific and specific and specific it gets; how to make a friend. How do I know? How do I have respectful conversation with other people? Those are things that we have now, and I use every day, but I developed when I was younger and that\\'s what builds the emotional intelligence.\\nBut in addition to emotional intelligence, we think academic intelligence is great too. You learn to walk, learn. Teachers at a young age can make learning exciting. You\\'re not going to be, sometimes when you get older and older, learning is you\\'re going to class and you\\'re like, \"Oh, whatever.\" But these kids are still excited. They\\'re still in their earlier age. I\\'ll take you in one minute. Where they will be excited about learning and teachers can do that. These are equal in importance. Having the emotional intelligence, the academic intelligence. Why does more funding help with this? Better facilities for these kids can pay for better teachers who have more training and more education. That\\'s the financial end. ': [0,\n",
       "   'mswan_round2']},\n",
       " {'Our third contention is role models. This is from a moral standpoint and it\\'s also the period. So a lot of times, parents aren\\'t always around, which is really sad. Parents might be dead, they might get incarcerated, they also just might not be present and invested in the education. But if we can invest in this, teachers are role models for these kids. You look up, imagine your three year old coming into school every day. Your teacher\\'s like, \"Oh he\\'s so tall. He\\'s so cool. I want to be friends with him. Oh my gosh, that\\'s amazing.\" And like these teachers are role models that often in a perfect world, everyone would have a parent that helped guide them but that\\'s not the world we reside in. These parents\\' limitations, shackle kids from really having that positive role model and seeing what they can then become. These teachers can provide a clear roadmap to that. They look up to them and what does that create a world? It creates a world of dreamers. That a future looking down the line, kids who want to do things with their life instead maybe you have a bad role model at home and you see your parents drinking alcohol all the time and just sitting around. You think that\\'s your life path? But you see teachers going out and doing stuff and inspiring you to love yours and it inspires you to continue going.': [0,\n",
       "   'mswan_round2']},\n",
       " {\"Our final thing is that children are creatures of habit and the fourth contention, 3.1, is that we're creatures of habit. The habits we build then, continue with us. I still write with a pencil the way that I normally write because I learned it when I was younger and these habits are going to stay with us for the rest of our life. Because of that, we were very proud to propose. Thank you.\": [0,\n",
       "   'mswan_round2']},\n",
       " {\"is obligatory. Globally, sometimes this is a lot of places, the culture is this is the only education you're getting. This is something that's really critical. We must invest in the education that everyone is getting. If, let's just say 100%, 95% of the population gets primary education and past primary education, globally speaking, a small percentage of the world actually continues on that.\\nLet's just say I know, hypothetical. Let's say 50% of people do. But if you're investing in primary education, you are literally helping the most number of people because more people do primary education than anything else. So you're investing in the most amount of people, which is great. In a lot of countries, you go to primary education and then you go into work. These skills that you learned in primary education help you with, those are the ones that are critical to working. If you have specific skills you can learn them in job training and stuff like that. But, I have to say that these secondary education doesn't really have the big impact on how to communicate and how to cooperate with others. It's critical and getting into financial, because the whole thing, it's why would you vote for more finances? In the other countries for example, like Africa.\\nStudents need uniforms to go to school, they need uniforms or they need books and sometimes those things are requirements. You need a uniform to go to school, but this is really hard on families with low income so this helps ease the burden and make sure that everyone gets to the same place, starts from the same place. I'll take you in 30 seconds. In these schools, if two kids have to share a book and if then you don't have textbooks for all the kids, then they're only going to be getting half the assets to these things. And that's critical because at these early ages, kids are still learning how to learn and if they have their own materials, they're going to be more excited to do that. And that means at home. When the kids go home after school and they're having their work with them. If they're able to afford the books to bring home and study, they're going to develop a love for that. But if they don't have access to that, it doesn't become some of their world. \": [0,\n",
       "   'mswan_round2']},\n",
       " {\"Let's talk about Charleston for a second, right? Homeowners discriminate against renters on neighborhood groups, charleston, South Carolina, by the way, keeping them out of important issues. These renters therefore are spurned by the community, which they're trying to get into. Even if they do manage to get their rent cheap, or if it's somehow provided by public I guess, and therefore renters do not feel secure in their own communities and they don't really know what's going on, right? Secondly, on that same sort of...\": [0,\n",
       "   'sweetbug44_round1']},\n",
       " {\"On that same sort of thing, renters do not have secure, guaranteed housing, so it's easy to see why people who rent want to transfer to ownership, right? Home ownership is perceived as a strong indicator of stability and life achievement. People with houses are more likely to stay and develop in an area, as well start families. This matters because when those people who no longer have access to ownership do not feel secure enough to settle down and fall through on what is perceived as social and personal achievements, they feel disenfranchised, right?\": [0,\n",
       "   'sweetbug44_round1']},\n",
       " {\"They don't have what they... They don't have the security that they've been said that they can have as long as they invest their money right, as long as they find a house that they can get a mortgage on, as long as they can do all of that. This just adds another barrier to those people on the margins to those average people. Let's ignore people in New York who are trying to rent, because those people are going to be stuck in apartments anyway regardless of what you do.\": [0,\n",
       "   'sweetbug44_round1']},\n",
       " {\"But finally let's get onto that agency right part at the end. The legacy of home-ownership and its benefits. Home-ownership does accumulate financial clout that we feel is very positive. Owning and paying off a house does improve one's credit, and accumulation is a form of saving and retirement money for average people who were recently not saving in the first place, right? And we also believe that homes are sectors that keep average people their resources that they bought and need, better schools and hospitals, for example. When normal people have an access to financial and social clout, they have a greater opportunities to better their lives and their children's in a world where these things do positively impact on global economies, as opening opposition issued, but normal people's lives.\": [0,\n",
       "   'sweetbug44_round1']},\n",
       " {\"I want to turn to why it's the case that this is not just about developing countries, or just about the United States and developed countries. Rather, we think that it is probably about both. They neglect the fact that 50% of children in the United States live in poverty, right? It's not as if there is no problems in developed countries. We say rather, that you ought focus on both. Because there's a set of problems that exist in both are the same, and de-industrializing warped.\": [3,\n",
       "   'kflynndo_round2']},\n",
       " {\"The problem that exists is a lack of opportunity. We told you that, for instance, when you have... So in their example where you have a developing country where tons of children are dying, your health is probably not particularly good. It's elementary school, it's high school, right? So if it's the case that you invest all this money in a zero to five education and healthcare, and then they go into these terrible elementary schools and high schools, there are no gains to be made here.\": [3,\n",
       "   'kflynndo_round2']},\n",
       " {\"This then means that they are just condemning that into a cycle of poverty. Because if you have higher infant mortality, perhaps on the margins, we would argue that it's not worth it. But even if that's true, the consequence of that is no actual baggage, right. On the contrary, what we tell you is that you can transition through things like vocational programs, not community colleges as OG is so excited, but straw manning us for.\": [3,\n",
       "   'kflynndo_round2']},\n",
       " {'Now additionally though, the second problem is a lack of opportunity. There are jobs in these countries. This is why for instance, when you have vast increases in population in the the consequence of that was overcrowding and restlessness because there were no jobs available. The way that jobs become available is when the citizens are able to have the skills necessary to perform functions in an increasing economy.': [3,\n",
       "   'kflynndo_round2']},\n",
       " {\"That only happens on outside of the house because we've all admitted that the education that exists in the status quo is insufficient for that to happen as demonstrated by the fact that in the status quo is quite poor. So we say that, that it is far better on our side of the house when you invest in these sorts of systems.\": [3,\n",
       "   'kflynndo_round2']},\n",
       " {\"So four things here. First, when you increase income by investing in vocational schools and creating a labor demand, we say you've decreased child mortality. Why? Because if you've got more money in general as a result of rising incomes, you've decreased mortality. This in fact is the story of the last 40 years.\": [3,\n",
       "   'kflynndo_round2']},\n",
       " {\"Secondarily though, we think that you just have a right to a quality of life. If all they're doing is extending the lives of children who are going to exist in terribly poor countries, we say that is unacceptable and you want to invest rather in making those countries more wealthy. Third though, yes. Third though, is that we think that growth compounds, that is if you invest in these children and then they are able to live a decent life, but the economy stagnates, you don't do much good.\": [3,\n",
       "   'kflynndo_round2']},\n",
       " {\"Rather, if you invest in growth, if we present growth year on year on year, it compounds upon itself and your result is substantially more wealthy economy, in the longterm exponentially. But finally, if you have more skilled workers, that increases the tax base. Why is this essential? Because when you increase the tax base, rather than having children who, note, don't pay taxes, you actually are able to draw money from your new labor force, which means that you can invest that money into childhood education like they are talking about\": [3,\n",
       "   'kflynndo_round2']},\n",
       " {\"We say that we remove people from harmony through opportunities. The problems that they have identified about children living in poverty, it's not that these children aren't working hard enough and don't have jobs. Rather, it's the parents that are poor, which makes the children poor. We say you go to the root of problem, you give the parents draws by giving them skills.\": [3,\n",
       "   'kflynndo_round2']},\n",
       " {'We say that if there are problems, which there are in elementary and high schools, we are the only side which can rectify those, why? Because when you are going a poor elementary and high school, you can then get remedial help, or you can get trained for a job on our side of the house, whereas on their side of the house, that never happened. We think you need to invest in those vocational skills. This means you transition to services to industry. You increase on for instance, training of technicians, et cetera.': [3,\n",
       "   'kflynndo_round2']},\n",
       " {\"First, we believe that religious liberty is self-expression of one's religion that doesn't violate another person's rights. That is to say, the religious liberty and self expression can be wearing a hijab, but it is not being homophobic and then using the Christian values to justify that homophobia.\": [3,\n",
       "   'pmanisca_round5']},\n",
       " {'Secondly, we believe that the mechanism in which this would work would be the following, if a state passes a law that the government believes is discriminatory, there would be funding cuts for that state. If that state has laws in place that are discriminatory in the status quo, when this policy would go into place, that funding will be cut until those policies are removed.': [3,\n",
       "   'pmanisca_round5']},\n",
       " {'All right, so three independent reasons why this is so important. The first is why religious liberty must be protected. Two reasons under this. First, religious minorities are often vulnerable. They often have distinguishing characteristics, such as religious garb that they wear in public. As a result of this, these individuals are often targets for violence because they are very easy to pick out of a crowd.': [3,\n",
       "   'pmanisca_round5']},\n",
       " {\"First, these states or subnational governments rely on funding from the greater nation. Why is that the case? Firstly, these subnations don't have enough tax base to actually implement their big infrastructure projects. For example, Quebec. Quebec only has a few cities that it can draw money from, but the entirety of Canada has multiple ports and other cities that they can take taxes from. Often these discriminatory laws are implemented in places that have less income and less money associated with them. That is because religious bigotry and other types of discriminatory behavior are often seen in these areas that don't have a lot of interaction and who aren't liberalized, who aren't like the coastal elite places. As a result, we will see these laws more likely in North Dakota than in New York. These poorer States, like North Dakota, depend more on state funding from the federal government and as a result are uniquely positioned to suffer from enacting these laws.\": [3,\n",
       "   'pmanisca_round5']},\n",
       " {\"The first is that anti-religious hate movements will die down and simmer away. This is true because their worldview is no longer achievable. It is not possible to create a sub-state within a nation that has anti-religious laws if you're not going to get funding from you overall state. As a result, they have these people who advocate for these anti-religious movements no longer have a justifiable destination they can point their followers to. As a result, less and less people start to believe that they are credible and as a result, those movements tend to die out. We believe that's overall good because those people cause great harm to religious minorities.\": [3,\n",
       "   'pmanisca_round5']},\n",
       " {\"But secondly, we believe that in the status quo there is just no trade-off to passing a new law that is religiously discriminatory from the point of view of the state. There's no one who comes in and gives you a fine for doing it. There's no one who really yells at you for doing it because the majority of your population agrees with that policy. The only people in the status quo who are voicing concern about this policy is the religious minority themselves. Once there is a federal government who enacts some sort of punitive measure to stop these laws from being enacted, it's going to be much harder for the state to try to ram them down the throat of the people.\": [3,\n",
       "   'pmanisca_round5']},\n",
       " {\"econdly, we believe that the state plays a vital role in this violence because discriminatory laws are often justification for violence. If the state is making a law, for example, hijabs should be banned in public, people who wear hijabs in public are demonized by the public because they're doing something that is illegal. As a result, people believe that violence is justified upon them because they are illegal and they're doing something wrong. As a result, when the state passes discriminatory laws, violence against religious minorities increases.\\n\\n\\n\": [3,\n",
       "   'pmanisca_round5']},\n",
       " {\"But now moving on to our own positive case is we're going to analyze another stakeholder that are homeowners themselves and how the housing market, the home worship, ends up being more harmful for the world. Living in the United States of America under the ambit of the American dream where home ownership is the most fundamental way to gain environmental stability, we believe that this illusion has forced a lot of poor people, a lot of middle class people, into area, into situation they did not want to be in the first place.\": [3,\n",
       "   'kamilaslam_round1']},\n",
       " {\"The first idea is how predictable the expenses are when it comes to home expenses because you want to realize that these expenses are not static from the get go. It's not just paying for the land and it's just not paying for the houses. In the long run, you have to pay for a maintenance, you have to pay for a plumbing, you have to pay for repairs. And these additional expenses over the years form a huge burden for these individuals. And for a lot of cases, they end up hurting their credit history, their ability to get loans, and essentially ends up restricting their economic power, and their power to spend, the purchasing power for consumers, just because of the fact that they are restricted to a certain aspect of expenses.\": [3,\n",
       "   'kamilaslam_round1']},\n",
       " {\"And secondly, the idea is how these homes themselves aren't good investment to begin with because for a lot of these homes, they're in a rapid depreciation in their values. People spend their entire lives living in Even in these United States, people prefer housing. People prefer spending more in houses than in any other things. People have houses in more than two States. So this is why there's an incentive for the State to make sure they a curb down. The fact that they're spending most of their life savings on housing, takes them away from spending that money that could've been better spent. For example, for education, for example for education healthcare, that these families in most cases overlook.\": [3,\n",
       "   'kamilaslam_round1']},\n",
       " {\"But secondly, the idea of housing ownership has evolved from just being a necessity to a luxury in the status quo because of how people are motivated people, how they're incentivized to acquire as many houses as they can just because of how it has evolved into a status symbol. Everything, this is something that as a government, we should curb down on just because we want to make sure that people are spending the money in the right way. And that's not something that is isolated just this case because State does interfere whenever consumers are being harmed. State tax tobacco for instance. States makes some stuff illegal for you because you want to make sure... because they realize the fact that consumers cannot spenders. And in some cases, they do want to have to make choices for them in order to make sure that the expenses are very spent and very\": [3,\n",
       "   'kamilaslam_round1']},\n",
       " {'Our first main argument is that post-secondary education is key to individuals having formative experiences and learning ethics and values that build the fabric of society. This, post-secondary education is where students are introduced to society and their role in society both economically when they learn a specific trade or a specific major of study and they go into that major of study and learn how they fit into the workforce and socially when they learn how they fit in society and how they can be a productive member of society.': [3,\n",
       "   'arjunp_round2']},\n",
       " {\"Additionally, self actualization, which is the highest part of Maslow's hierarchy of needs is achieved during post-secondary education. You learn who you are and what you can offer to society and what value you have as a human being. That's a key part that children in a Pre-K education are not sophisticated or old enough to understand, but in a post-secondary education system, kids can achieve that. The comparative here that if we don't fund Pre-K education more than current levels, students will still learn reading and basic social skills. But if we take away money from a posting education, essentially kids who cannot afford these schools will be drawn out of the will not learn any of these valuable skills and they will not be able to get a spot in the economy and future workforce because posting education is a lot more expensive.\": [3,\n",
       "   'arjunp_round2']},\n",
       " {\"Our second argument that there's no regulation or accountability for Pre-K education compared to post-secondary education.\": [3,\n",
       "   'arjunp_round2']},\n",
       " {\"The DOE regulates K–12, but Pre-K is largely unregulated by the DOE. This means that all these schools, all these Pre-K organizations that wants to pour money into, they have very little regulations, very little transparency and there's a lot of room for corruption. Public universities on the other hand are either run by the state, which means that they have the supervision and oversight of a state and of a government or they're accredited, which means they have the supervision of an independent body to make sure they are fulfilling education properly.\": [3,\n",
       "   'arjunp_round2']},\n",
       " {\"None of this exists in the Pre-K system. Why does this matter? It means that investing in the Pre-K system exacerbates inequalities. Poor students will be going to Pre-K system that do not have oversight and do not have effective programs. While the rich students will continue to go to good Pre-K programs. So essentially no level inequality is solved by giving more money to Pre-K but rather the rich students get good at good programs and the poor students of... The rich students go to good programs and the poor students go to bad programs. This should ethically be rejected on a principle matter because it means at the government's model, essentially sanctions, inequality and sanctions further divide between the rich and the poor in the U.S when the very role of education is supposed to be an equalizer and something where someone can go from one socioeconomic level to a higher socioeconomic level.\": [3,\n",
       "   'arjunp_round2']},\n",
       " {\"Our third main argument is that post-secondary education is key to workforce pipelines that sustain aid the economy of nations such as the U.S and be individual upward mobility. Trade and emergencies are key to sector shortages. For example, in the cybersecurity industry, there's a shortage of qualified workers who can work there if we invested in Pre-K, we are not necessarily filling these shortages, but if the government invests in things like cybersecurity training schools or schools that focus in tech, we are filling these shortages that are key to the economy. If we have a shortage in a specific industry or a sector that essentially mean that sector will not be able to produce innovation, which is the internal link to economic growth in the long term.\": [3,\n",
       "   'arjunp_round2']},\n",
       " {\"So if we want economic growth in the long term, which is the best way to elevate people of all social classes, and the best way to elevate the prosperity of the country as a whole, we need to make sure all these workforce shortages are filled and the unemployment rate currently is really low so it's clear that we cannot do that in terms of retraining and people are already in jobs.\": [3,\n",
       "   'arjunp_round2']},\n",
       " {\"For example, if they start off in early childhood as poor, college can be an opportunity for them to learn a specific skill and to elevate to a higher socioeconomic level which ends the reinforcing cycle of poverty. If we don't actually fund these schools and give students opportunity to have scholarships and financial aid, which is where a lot of this public funding is going to, these students will not be able to go to these trade schools, go to these specific schools and learn a skill that can bring them out of poverty. This is very important because poverty and that structural bounds are the lowest class of society and if we don't have an education as a tool for them to get out of the structural bounds they will face many problems that will never be resolved\": [3,\n",
       "   'arjunp_round2']},\n",
       " {'Onto my fourth point at post-secondary function increase the student loan crisis. This is very key because if we do this sudden government model where we pull out funding from vocational schools and from universities and suddenly divert them to Pre-K, all the students who rely on financial aid will suddenly know how to have a lifeline.': [3,\n",
       "   'arjunp_round2']},\n",
       " {\"So education is the only way we can actually fill these shortages and make sure all sectors of the economy have enough people to successfully run. So if we don't invest in these trade schools, and if by the government's model, we actually divert money away from these vocational schools, which by the way, they even concede in their previous speech that vocational schools are good. If we divert money from vocational schools, that means these shortages will only get worse and there'll be economic gaps that hurt the longterm stability of western liberal democracies. Now, college also matters for individual upward mobility. As I've mentioned several times, the main rule of college for an individual is for them to be able to elevate socioeconomic status.\": [3,\n",
       "   'arjunp_round2']},\n",
       " {\"This prevents wealth building in the future because if students are saddled a bunch of financial with a bunch of student debt, they will not be able to do things like buy a house and gain other features that are important to integrating themselves in economy and society. Now to reputation, I have already addressed their vocational skills argument because they literally draw from vocational skills with their but I'm going to try develop in arguments that doesn't require public funding and because we made specific arguments and there's no accountability for childcare, simply pouring money in these systems is not the correct way for us to help families and we'll turn the argument. Universities are key to empowering women and giving them a spot in the workforce\": [3,\n",
       "   'arjunp_round2']},\n",
       " {'So our first argument is that all tax policies should attempt to limit inequality. There are two reasons this is the case. First, the government has an obligation to prevent unrest, and we believe inequality leads to unrest.': [3,\n",
       "   'pmanisca_round1']},\n",
       " {'When individuals in lower classes see the upper class lavishly spending on these things while they are suffering, while they are struggling to put food on the table, it causes them to be unrestful and possibly lash out with violence. The state wants to prevent that, and as such, they should take action to limit inequality to stop that from happening in the first place.': [3,\n",
       "   'pmanisca_round1']},\n",
       " {'But secondly, tax structure in many cases controls inequality. For example, in the United States having a trickle down economic system because of a tax code that is favored for the rich directly resulted an increase in inequality over the long term. We see the tax structure is the key to both increasing inequality, but can also be the key to decreasing inequality.': [3,\n",
       "   'pmanisca_round1']},\n",
       " {\"We believe that this tax is a gateway to inequality. So why is that the case? This is our second argument. So firstly, an increase in wealth... There are three reasons why it increases wealth inequality. First, it increases wealth inequality between people. So taxes affect people on the margins most. I'll give you a clear example. If a wealthy person owns a mansion, they also probably can pay for whatever tax is going to be. They have a large amount of wealth, and they're not spending it all on the mansion. They're spending a small fraction of their total wealth on this mansion that's why they feel inclined to buy it. A person of middle income who owns a small house, they probably spent a vast more portion of their income, and a vast greater proportion of their savings trying to purchase this house, which means they have less money left over to pay that tax. So what we have left is a system where people who are middle income, who own small homes, these are the people who are unable to pay the tax while rich people who have mentioned are able to pay the tax.\": [3,\n",
       "   'pmanisca_round1']},\n",
       " {'But secondly, we believe that this increase in inequality also extends between individuals and corporations. So why is that the case? We believe that in the status quo, a large number of corporations are buying up homes where individuals will have done this. This looks like private equity corporations like Black Rock who have wealth exceeding trillions and trillions of dollars, some of which comes from owning these homes.': [3,\n",
       "   'pmanisca_round1']},\n",
       " {\"When these organizations enter a system in which there's a tax that prevents people from buying homes for personal reasons or at least discourages them from doing so, these firms who are purchasing homes for un-personal reasons have a better chance in the market and as such are going to purchase more and more homes.\": [3,\n",
       "   'pmanisca_round1']},\n",
       " {'So why is that so problematic? We believe that these corporations create rent monopoly. That is to say that if they own a large amount of homes in the United States or in any country in the world, they can raise rents on all their properties collectively, which in turn drives up rents for the entirety of the nation or entirety of the area. This is especially harmful for people who pay rent, not only through these corporations, but also they pay rent through another landlord that landlord is going to raise their rents because they see that other corporations can do it, and as a result everyone is paying more rent, which is horribly problematic.': [3,\n",
       "   'pmanisca_round1']},\n",
       " {\"But secondly, we believe it's also a phenomenon of intergenerational wealth transfer. That is to say if my parents... Or my parents do own our home, so they will probably sell it off when they are sadly about to pass away or they might just give it to me. That's better for me because now I have a head start on life and on finance because I have this huge amount of wealth that was created from this home. People who don't own the house as a result of his tax policy are not going to be able to get that benefit, and as a result there's more and more people not benefiting from this intergenerational wealth transfer.\": [3,\n",
       "   'pmanisca_round1']},\n",
       " {\"We believe that this policy will increase future inequality. There are two reasons this is the case. First, one's home is usually a person's main source of equity. They use this to take out loans in their name and use their home as collateral. They do this for various reasons. For example, if they fall into medical or student debt or they want to open a small business. Without having this opportunity, it's restricting a individual's ability to make economic decisions that best benefits themselves and to escape a system of poverty or a way in which they are suffering in the status quo.\": [3,\n",
       "   'pmanisca_round1']},\n",
       " {\"That's the actual narrative that is now cemented in reality when you don't provide the mechanisms for people to escape Obviously it's a comparative, but understand that we can guarantee some people the ability to escape, versus their side of the house when that doesn't exist. When there isn't funding for those institutions, they can't guarantee anyone anything above a base salary; whatever their metric for how much they can fund, it's going to be equal on our side of the house and I think that's critical to understand.\": [3,\n",
       "   'brandenb_round2']},\n",
       " {\"So why does government not even get the... why not even give them the chance to escape? So we still heard a lot ideas of this narrative; the narrative that you can actualize that you're worth it. Understand that they literally make that narrative true on their side of the house when there aren't any chances for escape, when there are... isn't even a pathway out of that poverty; out of that feeling as a lessor, when there aren't opportunities that exist on their side, when there aren't things provided to people who need the ability to move beyond [crosstalk 00:04:59] a basic employment, to move beyond basic secondary education.\": [3,\n",
       "   'brandenb_round2']},\n",
       " {\"Arjun tells you that one, courts are much more slower than legislative bodies, which is true. But two, courts are also much more hyper partisan by legislative bodies. Why is this true? Because courts are more often than not chosen by people who are already hyper partisan and also smaller in scope. So you have less likelihood of having representative voices on court. But the third reason here, why this is so important, why it's so pernicious that we bring you, is that there's no accountability mechanism for courts. And they think it's of an ask appeal lie at some point relatively recently by saying, well what happens when the courts of the state just ignore the rulings of the courts?\": [3,\n",
       "   'ryanwilliamsdukedebate_round5']},\n",
       " {\"One, people get very upset when things don't get funded. But the thing is, you don't get upset at your friendly Muslim neighbor next door. You get upset at the politicians that let this happen. So it's more likely that I'm going to not elect somebody who let my state go to absolute shit because they chose to pass one method that was more favorable. It's more likely the case that I get upset at the people who are in charge of the leaders of power that somebody has no access to it. Secondly, we believe that politicians who passed original laws then get ousted, right? If I am in a state where a governor has let something happen to where all of my federal programs have been defunded, I'm more likely to get upset at the governor of that state, oust that governor, and elect a new one who will not do that, right? We believe we get the feedback mechanism there. But thirdly, we have new politicians who have the ability to have a changing outlook on policy. How do we get that?\": [3,\n",
       "   'ryanwilliamsdukedebate_round5']},\n",
       " {\"But secondly, let's talk about this populism argument that comes out of closing opposition. A couple of things here. First, we believe that state's policies precede this sort of populism that they have, right? So we think populism only grows in areas where it's allowed to be emboldened. So that is to say, you won't have the radical version of populism, which denies people rights without having states that also deny people rights. We also believe secondly, we blame localized radicals at the state level because they are more likely to be those who changed laws than those who are representative at the federal level. We believe that state populism is what... and that's a lot of these laws. But thirdly we believe that the backlash is unlikely to happen or be acted upon an individual's neighbor because we believe the precedent at the federal level has established equality.\": [3,\n",
       "   'ryanwilliamsdukedebate_round5']},\n",
       " {\"Okay, so firstly, why do people on houses? I don't think it's because they're entirely bought into this idea of an American dream of owning a house. But rather, I think that for a lot of people, even minority communities especially, is because they desire stability first and foremost.\": [3,\n",
       "   'samuelwu_round1']},\n",
       " {\"Because there's many examples in status quo of people being driven out of rented apartments, because we tell you that basically back in the '80s or in the '60s really for a large part of the black community, they were forced systematically out of rented apartments, that when white landowners desired to push them out, they they would find reasons to force them out of those apartments and just find bullshit reasons to could drive them out.\": [3,\n",
       "   'samuelwu_round1']},\n",
       " {'Okay. But more than that, what happens is that if you don\\'t believe, just like in minorities communities back then, it happens now in status quo, with things like rent controlled apartments, where landlords can be like, \"Look, my family member is moving into this apartment,\" and then force people out or other shitty measures like that.': [3,\n",
       "   'samuelwu_round1']},\n",
       " {'Because when you own that apartment or you own that condo, that protects you from those laws and it prevents you from having to uproot your life because someone else desires it. I think that that stability and that desire for stability is fundamentally should be protected in status quo.': [3,\n",
       "   'samuelwu_round1']},\n",
       " {\"Secondly, we're going to talk about finance here. Because I think that how people view housing as finance and investments is actually really important. So firstly I think that, note that instead of attempting at policies to attempt to deflate a bubble by saying making housing more regulated as an industry, they would rather pop the entire bubble itself and cause a housing crash, because that's what suddenly introducing taxes would do. And when you attempt to do it for punitively, that the fact is even worse.\": [3,\n",
       "   'samuelwu_round1']},\n",
       " {\"When it's no longer worth that money, then their finances are ruined. They're literally ruining the finances for millions of lives by introducing the tax punitively. Okay. So I think that that in and of itself is just straight up not worth it. I don't think that any measure is worth ruining the lives of millions of people.\": [3,\n",
       "   'samuelwu_round1']},\n",
       " {\"we think that even if it was some sort of soft measure that came in here and it wasn't punitive, that it still punishes the middle class heavily. Because how does like ours, a large part of familiar wealth, and they're a large part of how people build generational wealth. Because the thing is that if you rent, which is the only appliable option under [Gov's 00:04:56] world, then what happens is that you're essentially giving money to the rich land owners.\": [3,\n",
       "   'samuelwu_round1']},\n",
       " {\"You're giving them the value of that land. And that means that it's very difficult for communities, and especially poor people, but also middle class people, to actually then build generational wealth for themselves, because of the large part of inheritances in status quo, are tied to housing and ownership. So in that way, you decreased a major mechanism to actually pass on generational wealth in status quo.\": [3,\n",
       "   'samuelwu_round1']},\n",
       " {'We think that basically when you introduce taxes and make it more costly to actually own a house, what it means is that this housing ownership becomes less desirable, right? Which reduces the size of the market. Which means that for our supply-demand, the demand for housing crashes, and for the millions and millions and millions of Americans who currently own a house, their value of their house actually declines massively because of that. Why is that really bad?': [3,\n",
       "   'samuelwu_round1']},\n",
       " {\"So this has become so much harder to do when you actually own that piece of land, when you own that condo, because fundamentally that ownership, while it might just be a piece of paper, is power. That piece of paper protects you against people trying to force you out. That piece of paper protects you from the government attempting to force shitty regulations upon you, like it did for many people or for many minority communities. I think that that piece of paper is powerful and it needs to be protected and that's why people desire ownership.\": [3,\n",
       "   'samuelwu_round1']},\n",
       " {\"Okay, so I think that if you recognize the status quo that houses are a large part of families' net worth, that when that housing prices has or even though because of the punitive measures like [OG 00:04:04] wants, then essentially a lot of a lot of families are basically forced into bankruptcy because their mortgage is tied to the idea that their house is worth something, and their financial stability is tied to the idea that their house is worth something and that they can resell it later if need be.\": [3,\n",
       "   'samuelwu_round1']},\n",
       " {\"So we would tell you that at the point where state intervention is not always good, especially in the United States where we see Donald Trump intervening on behalf of that baker that deny the cake to the LGBT community, as an impact and result of that, denying overall service to that community. We think that's going to be really harmful. So yes, the federal government is going to be an effective mechanism but not necessarily for the good. But we also give analysis with Adrian on why this is not necessarily true, why the federal government won't necessarily be the best mechanism. Because they tell you the term of our original analysis, basically the idea that you can sue the state and that would be overall better. You're not 100% sure to win the case. The state might still win and you might still be fucked over.\": [3,\n",
       "   'magagne_round5']},\n",
       " {\"o here is the mechanism that Avery already brought. It's the idea that when you have this big, flashy thing as opposed to economic incentives, we would tell you that economic incentives happen very slowly. We can give you an example of [Quebec 00:02:26]. Quebec can very slowly cut funding as they reduce federal funding because they have the money to do so. We would tell you that you don't really see the implications of a cut in economic funding, for example, going to schools until the long term when that's a structurally ingrained thing that children are losing access to education. \": [3,\n",
       "   'magagne_round5']},\n",
       " {\"And the second reason why it's really undemocratic is because rights often trade off with other rights. What violates religious liberties means is a very context sensitive question, a very ambiguous question. For instance, is it more important for a Christian cake seller to have their religious rights upheld, or more important for a gay person to have their right to love, to marriage, upheld? These are things that don't have simple answers, right, and these are things that therefore the people ought to decide.\": [6,\n",
       "   'kolyncheang_round5']},\n",
       " {\"Second of all, countries that are federal governments are too big. Such as a federal government doesn't always represent what the state government and the people within a state wants, right. [crosstalk 00:05:09] And that's why a state government might be Democratic, but your federal government might be Republican, or vice versa. \": [6,\n",
       "   'kolyncheang_round5']},\n",
       " {\"Now, second argument is about how you harm minorities. Recognize our first argument is about cases of the states accepting the deal, so it's undemocratic. Our second argument is case of states not accepting the deal and how it harms minorities. It's likely that these sub-national governments, many of them won't accept, because they're either separatist, or very, very pro states rights kinds of states. The electorate doesn't want to see the state leaders capitulating to the federal government. They want to be libertarian, they want to be free. So they're not going to capitulate.\": [6,\n",
       "   'kolyncheang_round5']},\n",
       " {\"Moving on to our case. I'd like to a few Okay. our top case. First on how we better uphold democracy. We think that the best way to uphold democracy is not by allowing the federal government to decide what states ought and... be allowed to do. Recognize that their thing is in violation of the democratic rights of those people in the state, because now you're pegging all federal funding to things that we have had a social contract with people in that state to provide for them. Things like health care, military defense, and education, to a very specific issues that you're choosing, as becoming the now most ultimate, important issues of democratic rights.\": [6,\n",
       "   'kolyncheang_round5']}]"
      ]
     },
     "execution_count": 185,
     "metadata": {},
     "output_type": "execute_result"
    }
   ],
   "source": [
    "test_list"
   ]
  },
  {
   "cell_type": "code",
   "execution_count": 187,
   "metadata": {},
   "outputs": [],
   "source": [
    "with open('data/debate_cons_test.pkl', 'wb') as f:\n",
    "    pickle.dump(test_list, f)"
   ]
  },
  {
   "cell_type": "code",
   "execution_count": 188,
   "metadata": {},
   "outputs": [],
   "source": [
    "with open('data/debate_cons_train.pkl', 'wb') as f:\n",
    "    pickle.dump(train_list, f)"
   ]
  },
  {
   "cell_type": "code",
   "execution_count": 201,
   "metadata": {},
   "outputs": [
    {
     "data": {
      "text/html": [
       "<div>\n",
       "<style scoped>\n",
       "    .dataframe tbody tr th:only-of-type {\n",
       "        vertical-align: middle;\n",
       "    }\n",
       "\n",
       "    .dataframe tbody tr th {\n",
       "        vertical-align: top;\n",
       "    }\n",
       "\n",
       "    .dataframe thead th {\n",
       "        text-align: right;\n",
       "    }\n",
       "</style>\n",
       "<table border=\"1\" class=\"dataframe\">\n",
       "  <thead>\n",
       "    <tr style=\"text-align: right;\">\n",
       "      <th></th>\n",
       "      <th>Unnamed: 0</th>\n",
       "      <th>index</th>\n",
       "      <th>label</th>\n",
       "      <th>round</th>\n",
       "      <th>score</th>\n",
       "      <th>text</th>\n",
       "      <th>username</th>\n",
       "      <th>id</th>\n",
       "    </tr>\n",
       "    <tr>\n",
       "      <th>score_class</th>\n",
       "      <th></th>\n",
       "      <th></th>\n",
       "      <th></th>\n",
       "      <th></th>\n",
       "      <th></th>\n",
       "      <th></th>\n",
       "      <th></th>\n",
       "      <th></th>\n",
       "    </tr>\n",
       "  </thead>\n",
       "  <tbody>\n",
       "    <tr>\n",
       "      <th>0</th>\n",
       "      <td>8</td>\n",
       "      <td>8</td>\n",
       "      <td>8</td>\n",
       "      <td>8</td>\n",
       "      <td>8</td>\n",
       "      <td>8</td>\n",
       "      <td>8</td>\n",
       "      <td>8</td>\n",
       "    </tr>\n",
       "    <tr>\n",
       "      <th>1</th>\n",
       "      <td>21</td>\n",
       "      <td>21</td>\n",
       "      <td>21</td>\n",
       "      <td>21</td>\n",
       "      <td>21</td>\n",
       "      <td>21</td>\n",
       "      <td>21</td>\n",
       "      <td>21</td>\n",
       "    </tr>\n",
       "    <tr>\n",
       "      <th>2</th>\n",
       "      <td>40</td>\n",
       "      <td>40</td>\n",
       "      <td>40</td>\n",
       "      <td>40</td>\n",
       "      <td>40</td>\n",
       "      <td>40</td>\n",
       "      <td>40</td>\n",
       "      <td>40</td>\n",
       "    </tr>\n",
       "    <tr>\n",
       "      <th>3</th>\n",
       "      <td>59</td>\n",
       "      <td>59</td>\n",
       "      <td>59</td>\n",
       "      <td>59</td>\n",
       "      <td>59</td>\n",
       "      <td>59</td>\n",
       "      <td>59</td>\n",
       "      <td>59</td>\n",
       "    </tr>\n",
       "    <tr>\n",
       "      <th>4</th>\n",
       "      <td>38</td>\n",
       "      <td>38</td>\n",
       "      <td>38</td>\n",
       "      <td>38</td>\n",
       "      <td>38</td>\n",
       "      <td>38</td>\n",
       "      <td>38</td>\n",
       "      <td>38</td>\n",
       "    </tr>\n",
       "    <tr>\n",
       "      <th>5</th>\n",
       "      <td>10</td>\n",
       "      <td>10</td>\n",
       "      <td>10</td>\n",
       "      <td>10</td>\n",
       "      <td>10</td>\n",
       "      <td>10</td>\n",
       "      <td>10</td>\n",
       "      <td>10</td>\n",
       "    </tr>\n",
       "    <tr>\n",
       "      <th>6</th>\n",
       "      <td>4</td>\n",
       "      <td>4</td>\n",
       "      <td>4</td>\n",
       "      <td>4</td>\n",
       "      <td>4</td>\n",
       "      <td>4</td>\n",
       "      <td>4</td>\n",
       "      <td>4</td>\n",
       "    </tr>\n",
       "  </tbody>\n",
       "</table>\n",
       "</div>"
      ],
      "text/plain": [
       "             Unnamed: 0  index  label  round  score  text  username  id\n",
       "score_class                                                            \n",
       "0                     8      8      8      8      8     8         8   8\n",
       "1                    21     21     21     21     21    21        21  21\n",
       "2                    40     40     40     40     40    40        40  40\n",
       "3                    59     59     59     59     59    59        59  59\n",
       "4                    38     38     38     38     38    38        38  38\n",
       "5                    10     10     10     10     10    10        10  10\n",
       "6                     4      4      4      4      4     4         4   4"
      ]
     },
     "execution_count": 201,
     "metadata": {},
     "output_type": "execute_result"
    }
   ],
   "source": [
    "dftest_red.groupby('score_class').count()"
   ]
  },
  {
   "cell_type": "markdown",
   "metadata": {},
   "source": [
    "### Making Validation Set"
   ]
  },
  {
   "cell_type": "code",
   "execution_count": 218,
   "metadata": {},
   "outputs": [],
   "source": [
    "df_val_helper=dftrain_red.groupby('id')['score_class'].first().reset_index()"
   ]
  },
  {
   "cell_type": "code",
   "execution_count": 250,
   "metadata": {},
   "outputs": [],
   "source": [
    "dev_train_ids=[]\n",
    "val_ids=[]\n",
    "for score in df_val_helper['score_class'].unique():\n",
    "    val = df_val_helper[df_val_helper['score_class']==score].sample(frac = 0.15)\n",
    "    train = df_val_helper[df_val_helper['score_class']==score].drop(val.index)\n",
    "    dev_train_ids= dev_train_ids+list(train['id'].unique())\n",
    "    val_ids=val_ids+list(val['id'].unique())"
   ]
  },
  {
   "cell_type": "code",
   "execution_count": 251,
   "metadata": {},
   "outputs": [],
   "source": [
    "dftrain_dev = make_df(dftrain_red,dev_train_ids)\n",
    "dfval = make_df(dftrain_red,val_ids)"
   ]
  },
  {
   "cell_type": "code",
   "execution_count": 252,
   "metadata": {},
   "outputs": [
    {
     "data": {
      "text/plain": [
       "(532, 9)"
      ]
     },
     "execution_count": 252,
     "metadata": {},
     "output_type": "execute_result"
    }
   ],
   "source": [
    "dftrain_dev.shape"
   ]
  },
  {
   "cell_type": "code",
   "execution_count": 253,
   "metadata": {},
   "outputs": [
    {
     "data": {
      "text/plain": [
       "(87, 9)"
      ]
     },
     "execution_count": 253,
     "metadata": {},
     "output_type": "execute_result"
    }
   ],
   "source": [
    "dfval.shape"
   ]
  },
  {
   "cell_type": "code",
   "execution_count": 254,
   "metadata": {},
   "outputs": [
    {
     "data": {
      "text/plain": [
       "(619, 9)"
      ]
     },
     "execution_count": 254,
     "metadata": {},
     "output_type": "execute_result"
    }
   ],
   "source": [
    "dftrain_red.shape"
   ]
  },
  {
   "cell_type": "code",
   "execution_count": 255,
   "metadata": {},
   "outputs": [
    {
     "data": {
      "text/plain": [
       "array([1, 4, 5, 0, 3, 2])"
      ]
     },
     "execution_count": 255,
     "metadata": {},
     "output_type": "execute_result"
    }
   ],
   "source": [
    "dfval['score_class'].unique()"
   ]
  },
  {
   "cell_type": "code",
   "execution_count": 256,
   "metadata": {},
   "outputs": [],
   "source": [
    "dfval.to_csv('data/ann_transcript_score_class_val.csv')\n",
    "dftrain_dev.to_csv('data/ann_transcript_score_class_train.csv')"
   ]
  },
  {
   "cell_type": "code",
   "execution_count": null,
   "metadata": {},
   "outputs": [],
   "source": []
  }
 ],
 "metadata": {
  "kernelspec": {
   "display_name": "Python 3",
   "language": "python",
   "name": "python3"
  },
  "language_info": {
   "codemirror_mode": {
    "name": "ipython",
    "version": 3
   },
   "file_extension": ".py",
   "mimetype": "text/x-python",
   "name": "python",
   "nbconvert_exporter": "python",
   "pygments_lexer": "ipython3",
   "version": "3.7.4"
  }
 },
 "nbformat": 4,
 "nbformat_minor": 2
}
